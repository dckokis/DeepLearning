{
 "cells": [
  {
   "cell_type": "markdown",
   "metadata": {
    "id": "AbwmoJusmueU",
    "pycharm": {
     "name": "#%% md\n"
    }
   },
   "source": [
    "# Reinforcement Learning"
   ]
  },
  {
   "cell_type": "markdown",
   "metadata": {
    "id": "7xcuGNp-mueX",
    "pycharm": {
     "name": "#%% md\n"
    }
   },
   "source": [
    "В этом задании постараемся разобраться в проблеме обучения с подкреплением, реализуем алгоритм REINFORCE и научим агента с помощью этого алгоритма играть в игру Cartpole."
   ]
  },
  {
   "cell_type": "markdown",
   "metadata": {
    "id": "4HoHMD_GmueZ",
    "pycharm": {
     "name": "#%% md\n"
    }
   },
   "source": [
    "Установим и импортируем необходимые библиотеки, а также вспомогательные функции для визуализации игры агента."
   ]
  },
  {
   "cell_type": "code",
   "execution_count": 3,
   "metadata": {
    "id": "kHKfskxa7kaI",
    "pycharm": {
     "name": "#%%\n"
    }
   },
   "outputs": [],
   "source": [
    "!pip install gym pandas torch matplotlib pyvirtualdisplay > /dev/null 2>&1\n",
    "!apt-get install -y xvfb python-opengl ffmpeg x11-utils > /dev/null 2>&1"
   ]
  },
  {
   "cell_type": "code",
   "execution_count": 4,
   "metadata": {
    "id": "WiX0JVM3z0Ru",
    "pycharm": {
     "name": "#%%\n"
    }
   },
   "outputs": [],
   "source": [
    "from IPython.display import clear_output, HTML\n",
    "from IPython import display as ipythondisplay\n",
    "import matplotlib.pyplot as plt\n",
    "%matplotlib inline"
   ]
  },
  {
   "cell_type": "code",
   "execution_count": 5,
   "metadata": {
    "id": "IsjSHknYl1rj",
    "pycharm": {
     "name": "#%%\n"
    }
   },
   "outputs": [],
   "source": [
    "import numpy as np\n",
    "import glob\n",
    "import time\n",
    "import io\n",
    "import base64\n",
    "import gym\n",
    "from gym.wrappers import Monitor\n",
    "import torch\n",
    "import collections\n",
    "import pandas as pd\n",
    "from torch import nn\n",
    "from torch.optim import Adam\n",
    "from torch.distributions import Categorical"
   ]
  },
  {
   "cell_type": "code",
   "execution_count": 6,
   "metadata": {
    "id": "b5KfVGq1n_8s",
    "pycharm": {
     "name": "#%%\n"
    },
    "colab": {
     "base_uri": "https://localhost:8080/"
    },
    "outputId": "9330d847-302a-4ed0-8b50-6221b4804418"
   },
   "outputs": [
    {
     "output_type": "execute_result",
     "data": {
      "text/plain": [
       "<pyvirtualdisplay.display.Display at 0x7f3d91c4e850>"
      ]
     },
     "metadata": {},
     "execution_count": 6
    }
   ],
   "source": [
    "from pyvirtualdisplay import Display\n",
    "display = Display(visible=0, size=(1400, 900))\n",
    "display.start()"
   ]
  },
  {
   "cell_type": "code",
   "execution_count": 7,
   "metadata": {
    "id": "4xGh4QxDnlFw",
    "pycharm": {
     "name": "#%%\n"
    }
   },
   "outputs": [],
   "source": [
    "\"\"\"\n",
    "Utility functions to enable video recording of gym environment and displaying it\n",
    "To enable video, just do \"env = wrap_env(env)\"\"\n",
    "\"\"\"\n",
    "\n",
    "def show_video():\n",
    "    mp4list = glob.glob('video/*.mp4')\n",
    "    if len(mp4list) > 0:\n",
    "        mp4 = mp4list[0]\n",
    "        video = io.open(mp4, 'r+b').read()\n",
    "        encoded = base64.b64encode(video)\n",
    "        ipythondisplay.display(HTML(data='''<video alt=\"test\" autoplay \n",
    "                loop controls style=\"height: 400px;\">\n",
    "                <source src=\"data:video/mp4;base64,{0}\" type=\"video/mp4\" />\n",
    "             </video>'''.format(encoded.decode('ascii'))))\n",
    "    else: \n",
    "        print(\"Could not find video\")\n",
    "    \n",
    "\n",
    "def wrap_env(env):\n",
    "    env = Monitor(env, './video', force=True)\n",
    "    return env"
   ]
  },
  {
   "cell_type": "code",
   "execution_count": 8,
   "metadata": {
    "id": "Dfi89tXjmuet",
    "pycharm": {
     "name": "#%%\n"
    }
   },
   "outputs": [],
   "source": [
    "device = torch.device('cuda:0' if torch.cuda.is_available() else 'cpu') #позволяет перенести тензор на GPU, если он доступен в системе"
   ]
  },
  {
   "cell_type": "markdown",
   "metadata": {
    "id": "AhDVTPxymuez",
    "pycharm": {
     "name": "#%% md\n"
    }
   },
   "source": [
    "## OpenAI Gym"
   ]
  },
  {
   "cell_type": "markdown",
   "metadata": {
    "id": "VZb-IIq4muez",
    "pycharm": {
     "name": "#%% md\n"
    }
   },
   "source": [
    "[OpenAI Gym](https://gym.openai.com) это набор сред для разработки и сравнения алгоритмов обучения с подкреплением."
   ]
  },
  {
   "cell_type": "markdown",
   "metadata": {
    "id": "fFkuRjxNmue2",
    "pycharm": {
     "name": "#%% md\n"
    }
   },
   "source": [
    "OpenAI Gym предоставляет простой и универсальный API ко многим средам с разными свойствами, как простым так и сложным:\n",
    "* Классические задачи управления и игрушечные примеры, которые можно найти в учебниках и на которых демонстрируется работа алгоритмов обучения с подкреплением (одна из этих сред используется в этом задании)\n",
    "* Игры Atari (оказали огромное влияние на достижения в обучении с подкреплением в последние годы)\n",
    "* 2D и 3D среды для контроля роботов в симуляции (используют проприетарный движок [Mojuco](http://www.mujoco.org))"
   ]
  },
  {
   "cell_type": "markdown",
   "metadata": {
    "id": "NIu0Uhj7mue5",
    "pycharm": {
     "name": "#%% md\n"
    }
   },
   "source": [
    "Рассмотрим, как устроена среда [CartPole-v0](https://gym.openai.com/envs/CartPole-v0), с которой мы будем работать."
   ]
  },
  {
   "cell_type": "markdown",
   "metadata": {
    "id": "KYHUeiMXmue6",
    "pycharm": {
     "name": "#%% md\n"
    }
   },
   "source": [
    "Для этого создадим среду и выведем ее описание."
   ]
  },
  {
   "cell_type": "code",
   "execution_count": 9,
   "metadata": {
    "id": "b9BRqxoDmue7",
    "pycharm": {
     "name": "#%%\n"
    },
    "colab": {
     "base_uri": "https://localhost:8080/"
    },
    "outputId": "c128318f-0cdb-4e4a-ec2a-2b30f6e4c919"
   },
   "outputs": [
    {
     "output_type": "stream",
     "name": "stdout",
     "text": [
      "\n",
      "    Description:\n",
      "        A pole is attached by an un-actuated joint to a cart, which moves along\n",
      "        a frictionless track. The pendulum starts upright, and the goal is to\n",
      "        prevent it from falling over by increasing and reducing the cart's\n",
      "        velocity.\n",
      "\n",
      "    Source:\n",
      "        This environment corresponds to the version of the cart-pole problem\n",
      "        described by Barto, Sutton, and Anderson\n",
      "\n",
      "    Observation:\n",
      "        Type: Box(4)\n",
      "        Num     Observation               Min                     Max\n",
      "        0       Cart Position             -4.8                    4.8\n",
      "        1       Cart Velocity             -Inf                    Inf\n",
      "        2       Pole Angle                -0.418 rad (-24 deg)    0.418 rad (24 deg)\n",
      "        3       Pole Angular Velocity     -Inf                    Inf\n",
      "\n",
      "    Actions:\n",
      "        Type: Discrete(2)\n",
      "        Num   Action\n",
      "        0     Push cart to the left\n",
      "        1     Push cart to the right\n",
      "\n",
      "        Note: The amount the velocity that is reduced or increased is not\n",
      "        fixed; it depends on the angle the pole is pointing. This is because\n",
      "        the center of gravity of the pole increases the amount of energy needed\n",
      "        to move the cart underneath it\n",
      "\n",
      "    Reward:\n",
      "        Reward is 1 for every step taken, including the termination step\n",
      "\n",
      "    Starting State:\n",
      "        All observations are assigned a uniform random value in [-0.05..0.05]\n",
      "\n",
      "    Episode Termination:\n",
      "        Pole Angle is more than 12 degrees.\n",
      "        Cart Position is more than 2.4 (center of the cart reaches the edge of\n",
      "        the display).\n",
      "        Episode length is greater than 200.\n",
      "        Solved Requirements:\n",
      "        Considered solved when the average return is greater than or equal to\n",
      "        195.0 over 100 consecutive trials.\n",
      "    \n"
     ]
    }
   ],
   "source": [
    "env = gym.make(\"CartPole-v0\")\n",
    "print(env.env.__doc__)"
   ]
  },
  {
   "cell_type": "markdown",
   "metadata": {
    "id": "tovAoT5dmufD",
    "pycharm": {
     "name": "#%% md\n"
    }
   },
   "source": [
    "Из этого описания мы можем узнать, как устроены пространства состояний и действий в этой среды, какие награды получаются на каждом шаге, а также, что нам необходимо сделать, чтобы научиться \"решать\" эту среду, а именно достич средней награды больше 195.0 или больше за 100 последовательных запусков агента в этой среде. Именно такого агента мы и попробуем создать и обучить."
   ]
  },
  {
   "cell_type": "markdown",
   "metadata": {
    "id": "hZ98fYaxmufF",
    "pycharm": {
     "name": "#%% md\n"
    }
   },
   "source": [
    "Но для начала напишем вспомогательную функцию, которая будет принимать на вход среду, агента и число эпизодов, и возвращать среднюю награду за 100 эпизодов. С помощью этой функции мы сможем протестировать, насколько хорошо обучился наш агент, а также визуализировать его поведение в среде."
   ]
  },
  {
   "cell_type": "code",
   "execution_count": 10,
   "metadata": {
    "id": "0jXEOwd7njUm",
    "pycharm": {
     "name": "#%%\n"
    }
   },
   "outputs": [],
   "source": [
    "def test_agent(env, agent=None, n_episodes=100):\n",
    "    \"\"\"Runs agent for n_episodes in environment and calclates mean reward.\n",
    "    \n",
    "    Args:\n",
    "        env: The environment for agent to play in\n",
    "        agent: The agent to play with. Defaults to None - \n",
    "            in this case random agent is used.\n",
    "        n_episodes: Number of episodes to play. Defaults to 100.\n",
    "\n",
    "    Returns:\n",
    "        Mean reward for 100 episodes.\n",
    "    \"\"\"\n",
    "    total_reward = []\n",
    "    for episode in range(n_episodes):\n",
    "        episode_reward = 0\n",
    "        observation = env.reset()\n",
    "        t = 0\n",
    "        while True:\n",
    "            if agent:\n",
    "                with torch.no_grad():\n",
    "                    probs = agent(torch.FloatTensor(observation).to(device))\n",
    "                    dist = Categorical(probs)\n",
    "                    action = dist.sample().item()\n",
    "            else:\n",
    "                action = env.action_space.sample()\n",
    "            observation, reward, done, info = env.step(action)\n",
    "            episode_reward += reward\n",
    "            t += 1\n",
    "            if done:\n",
    "                print(\"Episode {} finished after {} timesteps\".format(episode+1, t+1))\n",
    "                break\n",
    "        total_reward.append(episode_reward)\n",
    "        env.close()\n",
    "                   \n",
    "    return np.mean(total_reward)"
   ]
  },
  {
   "cell_type": "markdown",
   "metadata": {
    "id": "TqnYqFVSmufL",
    "pycharm": {
     "name": "#%% md\n"
    }
   },
   "source": [
    "Протестируем и визуализируем случайного агента (параметр ```agent=False```)."
   ]
  },
  {
   "cell_type": "code",
   "execution_count": 11,
   "metadata": {
    "id": "yqVokBDFmufM",
    "scrolled": true,
    "pycharm": {
     "name": "#%%\n"
    },
    "colab": {
     "base_uri": "https://localhost:8080/"
    },
    "outputId": "ae136d19-bfb6-4079-a647-6649063f600f"
   },
   "outputs": [
    {
     "output_type": "stream",
     "name": "stdout",
     "text": [
      "Episode 1 finished after 22 timesteps\n",
      "Episode 2 finished after 91 timesteps\n",
      "Episode 3 finished after 23 timesteps\n",
      "Episode 4 finished after 15 timesteps\n",
      "Episode 5 finished after 21 timesteps\n",
      "Episode 6 finished after 54 timesteps\n",
      "Episode 7 finished after 54 timesteps\n",
      "Episode 8 finished after 13 timesteps\n",
      "Episode 9 finished after 26 timesteps\n",
      "Episode 10 finished after 37 timesteps\n",
      "Episode 11 finished after 28 timesteps\n",
      "Episode 12 finished after 30 timesteps\n",
      "Episode 13 finished after 22 timesteps\n",
      "Episode 14 finished after 17 timesteps\n",
      "Episode 15 finished after 14 timesteps\n",
      "Episode 16 finished after 20 timesteps\n",
      "Episode 17 finished after 30 timesteps\n",
      "Episode 18 finished after 13 timesteps\n",
      "Episode 19 finished after 13 timesteps\n",
      "Episode 20 finished after 26 timesteps\n",
      "Episode 21 finished after 48 timesteps\n",
      "Episode 22 finished after 23 timesteps\n",
      "Episode 23 finished after 46 timesteps\n",
      "Episode 24 finished after 11 timesteps\n",
      "Episode 25 finished after 16 timesteps\n",
      "Episode 26 finished after 12 timesteps\n",
      "Episode 27 finished after 17 timesteps\n",
      "Episode 28 finished after 36 timesteps\n",
      "Episode 29 finished after 27 timesteps\n",
      "Episode 30 finished after 21 timesteps\n",
      "Episode 31 finished after 61 timesteps\n",
      "Episode 32 finished after 19 timesteps\n",
      "Episode 33 finished after 16 timesteps\n",
      "Episode 34 finished after 12 timesteps\n",
      "Episode 35 finished after 16 timesteps\n",
      "Episode 36 finished after 33 timesteps\n",
      "Episode 37 finished after 21 timesteps\n",
      "Episode 38 finished after 58 timesteps\n",
      "Episode 39 finished after 12 timesteps\n",
      "Episode 40 finished after 37 timesteps\n",
      "Episode 41 finished after 13 timesteps\n",
      "Episode 42 finished after 24 timesteps\n",
      "Episode 43 finished after 52 timesteps\n",
      "Episode 44 finished after 20 timesteps\n",
      "Episode 45 finished after 26 timesteps\n",
      "Episode 46 finished after 22 timesteps\n",
      "Episode 47 finished after 39 timesteps\n",
      "Episode 48 finished after 30 timesteps\n",
      "Episode 49 finished after 16 timesteps\n",
      "Episode 50 finished after 21 timesteps\n",
      "Episode 51 finished after 39 timesteps\n",
      "Episode 52 finished after 14 timesteps\n",
      "Episode 53 finished after 18 timesteps\n",
      "Episode 54 finished after 39 timesteps\n",
      "Episode 55 finished after 19 timesteps\n",
      "Episode 56 finished after 17 timesteps\n",
      "Episode 57 finished after 26 timesteps\n",
      "Episode 58 finished after 13 timesteps\n",
      "Episode 59 finished after 20 timesteps\n",
      "Episode 60 finished after 9 timesteps\n",
      "Episode 61 finished after 18 timesteps\n",
      "Episode 62 finished after 45 timesteps\n",
      "Episode 63 finished after 14 timesteps\n",
      "Episode 64 finished after 12 timesteps\n",
      "Episode 65 finished after 25 timesteps\n",
      "Episode 66 finished after 23 timesteps\n",
      "Episode 67 finished after 24 timesteps\n",
      "Episode 68 finished after 24 timesteps\n",
      "Episode 69 finished after 19 timesteps\n",
      "Episode 70 finished after 15 timesteps\n",
      "Episode 71 finished after 19 timesteps\n",
      "Episode 72 finished after 18 timesteps\n",
      "Episode 73 finished after 14 timesteps\n",
      "Episode 74 finished after 23 timesteps\n",
      "Episode 75 finished after 15 timesteps\n",
      "Episode 76 finished after 14 timesteps\n",
      "Episode 77 finished after 12 timesteps\n",
      "Episode 78 finished after 14 timesteps\n",
      "Episode 79 finished after 12 timesteps\n",
      "Episode 80 finished after 16 timesteps\n",
      "Episode 81 finished after 15 timesteps\n",
      "Episode 82 finished after 29 timesteps\n",
      "Episode 83 finished after 17 timesteps\n",
      "Episode 84 finished after 23 timesteps\n",
      "Episode 85 finished after 63 timesteps\n",
      "Episode 86 finished after 15 timesteps\n",
      "Episode 87 finished after 28 timesteps\n",
      "Episode 88 finished after 36 timesteps\n",
      "Episode 89 finished after 59 timesteps\n",
      "Episode 90 finished after 27 timesteps\n",
      "Episode 91 finished after 19 timesteps\n",
      "Episode 92 finished after 17 timesteps\n",
      "Episode 93 finished after 13 timesteps\n",
      "Episode 94 finished after 17 timesteps\n",
      "Episode 95 finished after 14 timesteps\n",
      "Episode 96 finished after 19 timesteps\n",
      "Episode 97 finished after 20 timesteps\n",
      "Episode 98 finished after 31 timesteps\n",
      "Episode 99 finished after 11 timesteps\n",
      "Episode 100 finished after 14 timesteps\n"
     ]
    },
    {
     "output_type": "execute_result",
     "data": {
      "text/plain": [
       "23.51"
      ]
     },
     "metadata": {},
     "execution_count": 11
    }
   ],
   "source": [
    "test_agent(env, agent=False, n_episodes=100)"
   ]
  },
  {
   "cell_type": "markdown",
   "metadata": {
    "id": "8bzNtyllmufS",
    "pycharm": {
     "name": "#%% md\n"
    }
   },
   "source": [
    "Как видно, наш случайный агент выступает не очень хорошо и в среднем может удержать шест всего около 20 шагов."
   ]
  },
  {
   "cell_type": "markdown",
   "metadata": {
    "id": "BNcZLQpzmufU",
    "pycharm": {
     "name": "#%% md\n"
    }
   },
   "source": [
    "Напишем функцию для визуализации агента и посмотрим на случайного агента."
   ]
  },
  {
   "cell_type": "code",
   "execution_count": 12,
   "metadata": {
    "id": "GgThoRPgoMcs",
    "pycharm": {
     "name": "#%%\n"
    }
   },
   "outputs": [],
   "source": [
    "def agent_viz(env=\"CartPole-v0\", agent=None):\n",
    "    \"\"\"Visualizes agent play in the given environment.\n",
    "    \n",
    "    Args:\n",
    "        env: The environment for agent to play in. Defaults to CartPole-v0.\n",
    "        agent: The agent to play with. Defaults to None - \n",
    "            in this case random agent is used.\n",
    "\n",
    "    Returns:\n",
    "        Nothing is returned. Visualization is created and can be showed\n",
    "            with show_video() function.\n",
    "    \"\"\"\n",
    "    env = wrap_env(gym.make(env))\n",
    "    observation = env.reset()\n",
    "    while True:\n",
    "        env.render() \n",
    "        if agent:\n",
    "            with torch.no_grad():\n",
    "                probs = agent(torch.FloatTensor(observation).to(device))\n",
    "                dist = Categorical(probs)\n",
    "                action = dist.sample().item()\n",
    "        else:\n",
    "            action = env.action_space.sample()\n",
    "        observation, reward, done, info = env.step(action)\n",
    "        if done:\n",
    "            break\n",
    "            \n",
    "    env.close()"
   ]
  },
  {
   "cell_type": "code",
   "execution_count": 13,
   "metadata": {
    "id": "b5FLllE_pHSf",
    "pycharm": {
     "name": "#%%\n"
    },
    "colab": {
     "base_uri": "https://localhost:8080/",
     "height": 422
    },
    "outputId": "fefecbbb-2585-4f1c-e986-bc56296cc1bc"
   },
   "outputs": [
    {
     "output_type": "display_data",
     "data": {
      "text/plain": [
       "<IPython.core.display.HTML object>"
      ],
      "text/html": [
       "<video alt=\"test\" autoplay \n",
       "                loop controls style=\"height: 400px;\">\n",
       "                <source src=\"data:video/mp4;base64,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\" type=\"video/mp4\" />\n",
       "             </video>"
      ]
     },
     "metadata": {}
    }
   ],
   "source": [
    "agent_viz()\n",
    "show_video()"
   ]
  },
  {
   "cell_type": "markdown",
   "metadata": {
    "id": "hpQF0xgJmufW",
    "pycharm": {
     "name": "#%% md\n"
    }
   },
   "source": [
    "Попробуем применить обучение с подкреплением и алгоритм REINFORCE для того, чтобы в среднем за 100 эпиздов мы держали шест не менее 195 шагов."
   ]
  },
  {
   "cell_type": "markdown",
   "metadata": {
    "id": "M2SkO__WmufX",
    "pycharm": {
     "name": "#%% md\n"
    }
   },
   "source": [
    "## REINFORCE"
   ]
  },
  {
   "cell_type": "markdown",
   "metadata": {
    "id": "QW95huRpmufY",
    "pycharm": {
     "name": "#%% md\n"
    }
   },
   "source": [
    "Вспомним, что из себя представляет алгоритм REINFORCE (Sutton & Barto) <img src=\"//i.imgur.com/bnASTrY.png\" width=\"700\">"
   ]
  },
  {
   "cell_type": "markdown",
   "metadata": {
    "id": "CFD7oH9mmufZ",
    "pycharm": {
     "name": "#%% md\n"
    }
   },
   "source": [
    "1. Инициализуем политику (в качестве политики мы будем использовать глубокую нейронную сеть).\n",
    "2. \"Играем\" в среде эпизод, используя нашу политику, или несколько (мы будем использовать последний вариант) и собираем данные о состояниях, действиях и полученных наградах. \n",
    "3. Для каждого состояния в собранных эпизодах вычисляем сумму дисконтированных наград, полученных из этого состояния, а также логорифм правдоподобия предпринятого действия в этом состоянии для нашей политики.\n",
    "4. Обновляем параметры нашей политики по формуле на схеме."
   ]
  },
  {
   "cell_type": "markdown",
   "metadata": {
    "id": "Zjhox1Rdmufa",
    "pycharm": {
     "name": "#%% md\n"
    }
   },
   "source": [
    "### Политика"
   ]
  },
  {
   "cell_type": "markdown",
   "metadata": {
    "id": "v5KOdiJrmufb",
    "pycharm": {
     "name": "#%% md\n"
    }
   },
   "source": [
    "Наша политика должна принимать на вход состояние среды, а на выходе выдавать распределение по действиям, которые мы можем осуществлять в среде.\n",
    "\n",
    "**Задание:** Создать класс нейронной сети со следующей архитектурой ```Linear -> ReLU -> Linear -> Softmax```. Параметрами инициализации должны служить размерности пространства состояний, пространства действий и размер скрытого слоя."
   ]
  },
  {
   "cell_type": "code",
   "execution_count": 14,
   "outputs": [],
   "source": [
    "class Policy(nn.Module):\n",
    "    \"\"\"Policy to be used by agent.\n",
    "\n",
    "    Attributes:\n",
    "        state_size: Dimention of the state space of the environment.\n",
    "        act_size: Dimention of the action space of the environment.\n",
    "        hidden_size: Dimention of the hidden state of the agent's policy.\n",
    "    \"\"\"\n",
    "    def __init__(self, state_size, act_size, hidden_size):\n",
    "        super().__init__()\n",
    "        \n",
    "        self.state_size = state_size\n",
    "        self.act_size = act_size\n",
    "        self.hidden_size = hidden_size\n",
    "        \n",
    "        self.fully_connected_1 = nn.Linear(state_size, hidden_size)\n",
    "        self.fully_connected_2 = nn.Linear(hidden_size, act_size)\n",
    "        self.ReLu = nn.ReLU(inplace=True)\n",
    "        self.softmax = nn.Softmax(dim=1)\n",
    "    \n",
    "    def forward(self, inputs):\n",
    "        inputs = inputs.reshape((-1,self.state_size))\n",
    "        output = self.fully_connected_1(inputs)\n",
    "        output = self.ReLu(output)\n",
    "        output = self.fully_connected_2(output)\n",
    "        return self.softmax(output).view(-1)"
   ],
   "metadata": {
    "pycharm": {
     "name": "#%%\n"
    },
    "id": "dyYJAaf0mdi5"
   }
  },
  {
   "cell_type": "markdown",
   "source": [
    "### Оценка правдоподобия и расчет суммы дисконтированных наград"
   ],
   "metadata": {
    "collapsed": false,
    "pycharm": {
     "name": "#%% md\n"
    },
    "id": "CvyIwX3Rmdi5"
   }
  },
  {
   "cell_type": "markdown",
   "source": [
    "**Задание:** Напишем вспомогательная функцию, которая принимает на вход политику, батч траекторий и фактор дисконтирования, и должна вернуть следующие величины: \n",
    "* правдоподобие действия на каждом шаге на траектории посчитанные для всего батча;\n",
    "* дисконтированные суммы наград (reward-to-go) из каждого состояния среды на траектории посчитанные для всего батча;"
   ],
   "metadata": {
    "collapsed": false,
    "pycharm": {
     "name": "#%% md\n"
    },
    "id": "YRMh9XFImdi5"
   }
  },
  {
   "cell_type": "markdown",
   "source": [
    "**Hint**: Представим батч траекторий как ```list```, в котром также хранится ```list``` для каждой траектории, в котором каждый шаг хранится, как ```namedtuple```:\n",
    "```transition = collections.namedtuple(\"transition\", [\"state\", \"action\", \"reward\"])```"
   ],
   "metadata": {
    "collapsed": false,
    "pycharm": {
     "name": "#%% md\n"
    },
    "id": "hVClnXqOmdi5"
   }
  },
  {
   "cell_type": "code",
   "execution_count": 15,
   "outputs": [],
   "source": [
    "from torch._C import ThroughputBenchmark\n",
    "def process_traj_batch(policy, batch, discount):\n",
    "    \"\"\"Computes log probabilities for each action \n",
    "        and rewards-to-go for each state in the batch of trajectories.\n",
    "    \n",
    "    Args:\n",
    "        policy: Policy of the agent.\n",
    "        batch (list of list of collections.namedtuple): Batch of trajectories.\n",
    "        discount (float): Discount factor for rewards-to-go calculation.\n",
    "\n",
    "    Returns:\n",
    "        log_probs (list of torch.FloatTensor): List of log probabilities for\n",
    "            each action in the batch of trajectories.\n",
    "        returns (list of rewards-to-go): List of rewards-to-go for \n",
    "            each state in the batch of trajectories.\n",
    "    \"\"\"\n",
    "    returns = []\n",
    "    log_probs = []\n",
    "    \n",
    "    for trajectory in batch:\n",
    "        rewards = [0] * len(trajectory)\n",
    "        for i in range(len(trajectory)):           \n",
    "            probs_step = policy.forward(trajectory[i].state)\n",
    "            prob_action = probs_step[trajectory[i].action.item()]\n",
    "            log_probs.append(torch.log(prob_action))\n",
    "            for j in range(i, len(trajectory)):\n",
    "                rewards[i] += trajectory[j].reward*discount**(j-i)\n",
    "        returns.extend(rewards)\n",
    "    return log_probs, returns\n",
    "   "
   ],
   "metadata": {
    "pycharm": {
     "name": "#%%\n"
    },
    "id": "1CaUCDSPmdi6"
   }
  },
  {
   "cell_type": "markdown",
   "source": [
    "Ваша реализация функции должна проходить следующий тест."
   ],
   "metadata": {
    "collapsed": false,
    "pycharm": {
     "name": "#%% md\n"
    },
    "id": "-rYfEgdgmdi6"
   }
  },
  {
   "cell_type": "code",
   "execution_count": 16,
   "outputs": [],
   "source": [
    "def test_process_traj_batch(process_traj_batch):\n",
    "    \n",
    "    transition = collections.namedtuple(\"transition\", [\"state\", \"action\", \"reward\"])\n",
    "    \n",
    "    class HelperPolicy(nn.Module):\n",
    "        def __init__(self):\n",
    "            super(HelperPolicy, self).__init__()\n",
    "        \n",
    "            self.act = nn.Sequential(\n",
    "                nn.Linear(4, 2),\n",
    "                nn.Softmax(dim=0),\n",
    "            )\n",
    "        \n",
    "        def forward(self, x):\n",
    "            return self.act(x)\n",
    "        \n",
    "    policy = HelperPolicy()\n",
    "    \n",
    "    for name, param in policy.named_parameters():\n",
    "        if name == \"act.0.weight\":\n",
    "            param.data = torch.tensor([[1.7492, -0.2471, 0.3310, 1.1494],\n",
    "                                       [0.6171, -0.6026, 0.5025, -0.3196]])\n",
    "        else:\n",
    "            param.data = torch.tensor([0.0262, 0.1882])\n",
    "            \n",
    "    batch = [\n",
    "        [\n",
    "            transition(state=torch.tensor([ 0.0462, -0.0018,  0.0372,  0.0063]), action=torch.tensor(0), reward=1.0), \n",
    "            transition(state=torch.tensor([ 0.0462, -0.1975,  0.0373,  0.3105]), action=torch.tensor(1), reward=1.0), \n",
    "            transition(state=torch.tensor([ 0.0422, -0.0029,  0.0435,  0.0298]), action=torch.tensor(0), reward=1.0), \n",
    "            transition(state=torch.tensor([ 0.0422, -0.1986,  0.0441,  0.3359]), action=torch.tensor(0), reward=1.0), \n",
    "        ],\n",
    "        [\n",
    "            transition(state=torch.tensor([ 0.0382, -0.3943,  0.0508,  0.6421]), action=torch.tensor(1), reward=1.0), \n",
    "            transition(state=torch.tensor([ 0.0303, -0.2000,  0.0637,  0.3659]), action=torch.tensor(1), reward=1.0), \n",
    "            transition(state=torch.tensor([ 0.0263, -0.0058,  0.0710,  0.0939]), action=torch.tensor(1), reward=1.0), \n",
    "            transition(state=torch.tensor([ 0.0262,  0.1882,  0.0729, -0.1755]), action=torch.tensor(0), reward=1.0)\n",
    "        ]\n",
    "    ]\n",
    "    \n",
    "    log_probs, returns = process_traj_batch(policy, batch, 0.9)\n",
    "    assert sum(log_probs).item() == -6.3940582275390625, \"Log probabilities calculation is incorrect!!!\"\n",
    "    assert sum(returns) == 18.098, \"Log probabilities calculation is incorrect!!!\"\n",
    "    print(\"Correct!\")"
   ],
   "metadata": {
    "pycharm": {
     "name": "#%%\n"
    },
    "id": "LwF6jbXkmdi6"
   }
  },
  {
   "cell_type": "code",
   "execution_count": 17,
   "outputs": [
    {
     "output_type": "stream",
     "name": "stdout",
     "text": [
      "Correct!\n"
     ]
    }
   ],
   "source": [
    "test_process_traj_batch(process_traj_batch)"
   ],
   "metadata": {
    "pycharm": {
     "name": "#%%\n"
    },
    "colab": {
     "base_uri": "https://localhost:8080/"
    },
    "id": "42nQy7Tpmdi6",
    "outputId": "9bc197fb-4117-42a0-dc73-04d7e2dd3d24"
   }
  },
  {
   "cell_type": "markdown",
   "source": [
    "### Вспомогательные функции и гиперпараметры"
   ],
   "metadata": {
    "collapsed": false,
    "pycharm": {
     "name": "#%% md\n"
    },
    "id": "z8Msfy-mmdi7"
   }
  },
  {
   "cell_type": "markdown",
   "source": [
    "Функция для расчета скользящего среднего - ее мы будем использовать для визуализации наград по эпизодам."
   ],
   "metadata": {
    "collapsed": false,
    "pycharm": {
     "name": "#%% md\n"
    },
    "id": "Mb-nFKRpmdi7"
   }
  },
  {
   "cell_type": "code",
   "execution_count": 18,
   "outputs": [],
   "source": [
    "moving_average = lambda x, **kw: pd.DataFrame({'x':np.asarray(x)}).x.ewm(**kw).mean().values"
   ],
   "metadata": {
    "pycharm": {
     "name": "#%%\n"
    },
    "id": "c5_SeMCEmdi7"
   }
  },
  {
   "cell_type": "markdown",
   "source": [
    "Определим также гиперпараметры."
   ],
   "metadata": {
    "collapsed": false,
    "pycharm": {
     "name": "#%% md\n"
    },
    "id": "--KvA7cWmdi7"
   }
  },
  {
   "cell_type": "code",
   "execution_count": 19,
   "outputs": [],
   "source": [
    "STATE_SIZE  = env.observation_space.shape[0] # размерность пространства состояний среды\n",
    "ACT_SIZE = env.action_space.n # размерность пространства действий среды\n",
    "HIDDEN_SIZE = 256 # размер скрытого слоя для политики\n",
    "NUM_EPISODES = 1000 # количество эпиздов, которые будут сыграны для обучения\n",
    "DISCOUNT = 0.99 # фактор дисконтирования\n",
    "TRAIN_EVERY = 20"
   ],
   "metadata": {
    "pycharm": {
     "name": "#%%\n"
    },
    "id": "zdvZZtGgmdi7"
   }
  },
  {
   "cell_type": "markdown",
   "source": [
    "Инициализуем политику и алгоритм оптимизации - мы будем использовать Adam c праметрами по умолчанию."
   ],
   "metadata": {
    "collapsed": false,
    "pycharm": {
     "name": "#%% md\n"
    },
    "id": "NKW0AACXmdi7"
   }
  },
  {
   "cell_type": "code",
   "execution_count": 20,
   "outputs": [],
   "source": [
    "policy = Policy(STATE_SIZE, ACT_SIZE, HIDDEN_SIZE).to(device)\n",
    "optimizer = Adam(policy.parameters())"
   ],
   "metadata": {
    "pycharm": {
     "name": "#%%\n"
    },
    "id": "mfJkaN2jmdi8"
   }
  },
  {
   "cell_type": "code",
   "execution_count": 21,
   "outputs": [],
   "source": [
    "transition = collections.namedtuple(\"transition\", [\"state\", \"action\", \"reward\"])"
   ],
   "metadata": {
    "pycharm": {
     "name": "#%%\n"
    },
    "id": "9mKXZJfOmdi8"
   }
  },
  {
   "cell_type": "markdown",
   "source": [
    "### Основной цикл обучения"
   ],
   "metadata": {
    "collapsed": false,
    "pycharm": {
     "name": "#%% md\n"
    },
    "id": "PDOUYQJLmdi8"
   }
  },
  {
   "cell_type": "markdown",
   "source": [
    "Теперь, когда мы опредлели вспомогательные функции, то нам следует написать основной цикл обучения агента.\n",
    "В цикле должно происходить следующее:"
   ],
   "metadata": {
    "collapsed": false,
    "pycharm": {
     "name": "#%% md\n"
    },
    "id": "6aVf6cU8mdi8"
   }
  },
  {
   "cell_type": "markdown",
   "source": [
    "1. Играем количество эпизодов, определенное в гиперпараметре ```NUM_EPISODES```.\n",
    "2. В каждом эпизоде сохраняем информацию о шагах на траектории - состояние, действие и награду.\n",
    "3. В конце каждого эпизода сохраняем вышеуказанную информацию о траектории. \n",
    "4. Периодически обучаемся на собранных эпизодах каждые ```TRAIN_EVERY``` эпизодов:  \n",
    "    4.1. Считаем для собранного батча для каждого шага на трактории правдоподобие и сумму дисконтированных наград.  \n",
    "    4.2. Обновляем параметры политики агента по формуле, приведенной на схеме."
   ],
   "metadata": {
    "collapsed": false,
    "pycharm": {
     "name": "#%% md\n"
    },
    "id": "_jjEOsV6mdi8"
   }
  },
  {
   "cell_type": "markdown",
   "source": [
    "**Задание:** Реализовать алгоритм обучения, описанный на схеме и в тексте выше. Шаблон кода алгоритма представлен ниже. При этом следует сохранять сумму ревордов для каждого эпизода в переменную ```returns_history```. Алгоритму потребуется около 1000 эпизодов игры, для того чтобы научиться играть в игру (если после 1000 эпизодов агент играет немного хуже, чем для победы в игре, попробуйте обучать его немного дольше или установите критерий останова - когда средняя награда за 100 последних эпизодов превышает значение в ```env.spec.reward_threshold``` )"
   ],
   "metadata": {
    "collapsed": false,
    "pycharm": {
     "name": "#%% md\n"
    },
    "id": "tlSTF4cHmdi9"
   }
  },
  {
   "cell_type": "code",
   "execution_count": 22,
   "outputs": [
    {
     "output_type": "display_data",
     "data": {
      "text/plain": [
       "<Figure size 864x432 with 1 Axes>"
      ],
      "image/png": "[encoded data removed]"
     },
     "metadata": {
      "needs_background": "light"
     }
    }
   ],
   "source": [
    "returns_history = []\n",
    "traj_batch = []\n",
    "\n",
    "for i in range(NUM_EPISODES):\n",
    "        \n",
    "    observation = env.reset()\n",
    "    rewards = 0\n",
    "    trajectory = []\n",
    "    \n",
    "    while True:\n",
    "        with torch.no_grad():\n",
    "            observation = torch.FloatTensor(observation).cuda()\n",
    "            prev_observation = observation      \n",
    "            probs = policy(observation)            \n",
    "            dist = Categorical(probs)\n",
    "            action = dist.sample().item()\n",
    "            observation, reward, done, info = env.step(action)\n",
    "            trajectory.append(transition(prev_observation, torch.tensor(action).cuda(), reward))\n",
    "            rewards += reward\n",
    "            if done:\n",
    "                break\n",
    "    \n",
    "        \n",
    "    returns_history.append(rewards)\n",
    "            \n",
    "    traj_batch.append(trajectory)\n",
    "    \n",
    "    env.close()\n",
    "    if i % TRAIN_EVERY:\n",
    "        log_probs, returns = process_traj_batch(policy, traj_batch, DISCOUNT)\n",
    "        loss = -(torch.stack(log_probs) * torch.FloatTensor(returns).to(device)).sum()\n",
    "        optimizer.zero_grad()\n",
    "        loss.backward()\n",
    "        optimizer.step()\n",
    "        \n",
    "        traj_batch = []\n",
    "\n",
    "    if i % 10:\n",
    "        clear_output(True)\n",
    "        plt.figure(figsize=[12, 6])\n",
    "        plt.title('Returns'); plt.grid()\n",
    "        plt.scatter(np.arange(len(returns_history)), returns_history, alpha=0.1)\n",
    "        plt.plot(moving_average(returns_history, span=10, min_periods=10))\n",
    "        plt.show()"
   ],
   "metadata": {
    "pycharm": {
     "name": "#%%\n"
    },
    "colab": {
     "base_uri": "https://localhost:8080/",
     "height": 390
    },
    "id": "kzIE0akLmdi9",
    "outputId": "825569e6-c01b-4daf-daa8-0e79262d362c"
   }
  },
  {
   "cell_type": "markdown",
   "metadata": {
    "id": "Be9Zh-MamugN",
    "pycharm": {
     "name": "#%% md\n"
    }
   },
   "source": [
    "Протестируем обученного агента."
   ]
  },
  {
   "cell_type": "code",
   "execution_count": 23,
   "metadata": {
    "id": "-ry9g_aBmugO",
    "pycharm": {
     "name": "#%%\n"
    },
    "colab": {
     "base_uri": "https://localhost:8080/"
    },
    "outputId": "a41e6893-a9b3-4e76-e2be-8cc3ddcc5365"
   },
   "outputs": [
    {
     "output_type": "stream",
     "name": "stdout",
     "text": [
      "Episode 1 finished after 201 timesteps\n",
      "Episode 2 finished after 201 timesteps\n",
      "Episode 3 finished after 201 timesteps\n",
      "Episode 4 finished after 201 timesteps\n",
      "Episode 5 finished after 201 timesteps\n",
      "Episode 6 finished after 201 timesteps\n",
      "Episode 7 finished after 201 timesteps\n",
      "Episode 8 finished after 201 timesteps\n",
      "Episode 9 finished after 201 timesteps\n",
      "Episode 10 finished after 201 timesteps\n",
      "Episode 11 finished after 201 timesteps\n",
      "Episode 12 finished after 201 timesteps\n",
      "Episode 13 finished after 201 timesteps\n",
      "Episode 14 finished after 201 timesteps\n",
      "Episode 15 finished after 201 timesteps\n",
      "Episode 16 finished after 201 timesteps\n",
      "Episode 17 finished after 201 timesteps\n",
      "Episode 18 finished after 201 timesteps\n",
      "Episode 19 finished after 201 timesteps\n",
      "Episode 20 finished after 201 timesteps\n",
      "Episode 21 finished after 201 timesteps\n",
      "Episode 22 finished after 201 timesteps\n",
      "Episode 23 finished after 201 timesteps\n",
      "Episode 24 finished after 201 timesteps\n",
      "Episode 25 finished after 201 timesteps\n",
      "Episode 26 finished after 201 timesteps\n",
      "Episode 27 finished after 201 timesteps\n",
      "Episode 28 finished after 201 timesteps\n",
      "Episode 29 finished after 201 timesteps\n",
      "Episode 30 finished after 201 timesteps\n",
      "Episode 31 finished after 201 timesteps\n",
      "Episode 32 finished after 201 timesteps\n",
      "Episode 33 finished after 201 timesteps\n",
      "Episode 34 finished after 201 timesteps\n",
      "Episode 35 finished after 201 timesteps\n",
      "Episode 36 finished after 201 timesteps\n",
      "Episode 37 finished after 201 timesteps\n",
      "Episode 38 finished after 201 timesteps\n",
      "Episode 39 finished after 201 timesteps\n",
      "Episode 40 finished after 201 timesteps\n",
      "Episode 41 finished after 201 timesteps\n",
      "Episode 42 finished after 201 timesteps\n",
      "Episode 43 finished after 201 timesteps\n",
      "Episode 44 finished after 201 timesteps\n",
      "Episode 45 finished after 201 timesteps\n",
      "Episode 46 finished after 201 timesteps\n",
      "Episode 47 finished after 201 timesteps\n",
      "Episode 48 finished after 201 timesteps\n",
      "Episode 49 finished after 201 timesteps\n",
      "Episode 50 finished after 201 timesteps\n",
      "Episode 51 finished after 201 timesteps\n",
      "Episode 52 finished after 201 timesteps\n",
      "Episode 53 finished after 201 timesteps\n",
      "Episode 54 finished after 201 timesteps\n",
      "Episode 55 finished after 201 timesteps\n",
      "Episode 56 finished after 201 timesteps\n",
      "Episode 57 finished after 201 timesteps\n",
      "Episode 58 finished after 201 timesteps\n",
      "Episode 59 finished after 201 timesteps\n",
      "Episode 60 finished after 201 timesteps\n",
      "Episode 61 finished after 201 timesteps\n",
      "Episode 62 finished after 201 timesteps\n",
      "Episode 63 finished after 201 timesteps\n",
      "Episode 64 finished after 201 timesteps\n",
      "Episode 65 finished after 201 timesteps\n",
      "Episode 66 finished after 201 timesteps\n",
      "Episode 67 finished after 201 timesteps\n",
      "Episode 68 finished after 201 timesteps\n",
      "Episode 69 finished after 201 timesteps\n",
      "Episode 70 finished after 201 timesteps\n",
      "Episode 71 finished after 201 timesteps\n",
      "Episode 72 finished after 201 timesteps\n",
      "Episode 73 finished after 201 timesteps\n",
      "Episode 74 finished after 201 timesteps\n",
      "Episode 75 finished after 201 timesteps\n",
      "Episode 76 finished after 201 timesteps\n",
      "Episode 77 finished after 201 timesteps\n",
      "Episode 78 finished after 201 timesteps\n",
      "Episode 79 finished after 201 timesteps\n",
      "Episode 80 finished after 201 timesteps\n",
      "Episode 81 finished after 201 timesteps\n",
      "Episode 82 finished after 201 timesteps\n",
      "Episode 83 finished after 201 timesteps\n",
      "Episode 84 finished after 201 timesteps\n",
      "Episode 85 finished after 201 timesteps\n",
      "Episode 86 finished after 201 timesteps\n",
      "Episode 87 finished after 201 timesteps\n",
      "Episode 88 finished after 201 timesteps\n",
      "Episode 89 finished after 201 timesteps\n",
      "Episode 90 finished after 201 timesteps\n",
      "Episode 91 finished after 201 timesteps\n",
      "Episode 92 finished after 201 timesteps\n",
      "Episode 93 finished after 201 timesteps\n",
      "Episode 94 finished after 201 timesteps\n",
      "Episode 95 finished after 201 timesteps\n",
      "Episode 96 finished after 201 timesteps\n",
      "Episode 97 finished after 201 timesteps\n",
      "Episode 98 finished after 201 timesteps\n",
      "Episode 99 finished after 201 timesteps\n",
      "Episode 100 finished after 201 timesteps\n"
     ]
    },
    {
     "output_type": "execute_result",
     "data": {
      "text/plain": [
       "200.0"
      ]
     },
     "metadata": {},
     "execution_count": 23
    }
   ],
   "source": [
    "test_agent(env, agent=policy, n_episodes=100)"
   ]
  },
  {
   "cell_type": "markdown",
   "metadata": {
    "id": "rf18pOwCmugS",
    "pycharm": {
     "name": "#%% md\n"
    }
   },
   "source": [
    "Обученный агент должен приближаться к искомому значению средней награды за 100 эпизодов 195."
   ]
  },
  {
   "cell_type": "markdown",
   "metadata": {
    "id": "Gk3bQdF_mugT",
    "pycharm": {
     "name": "#%% md\n"
    }
   },
   "source": [
    "Визуализируем обученного агента."
   ]
  },
  {
   "cell_type": "code",
   "execution_count": 24,
   "metadata": {
    "id": "c6QvXvwUsct6",
    "pycharm": {
     "name": "#%%\n"
    },
    "colab": {
     "base_uri": "https://localhost:8080/",
     "height": 422
    },
    "outputId": "4784f59f-8587-4b73-8cc8-c8db4c22647d"
   },
   "outputs": [
    {
     "output_type": "display_data",
     "data": {
      "text/plain": [
       "<IPython.core.display.HTML object>"
      ],
      "text/html": [
       "<video alt=\"test\" autoplay \n",
       "                loop controls style=\"height: 400px;\">\n",
       "                <source src=\"data:video/mp4;base64,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\" type=\"video/mp4\" />\n",
       "             </video>"
      ]
     },
     "metadata": {}
    }
   ],
   "source": [
    "agent_viz(agent=policy)\n",
    "show_video()"
   ]
  },
  {
   "cell_type": "markdown",
   "metadata": {
    "id": "YKkrymnnmugU",
    "pycharm": {
     "name": "#%% md\n"
    }
   },
   "source": [
    "Как видно, агент выучил довольно хорошую стратегию для игры и способен долго удерживать шест."
   ]
  },
  {
   "cell_type": "markdown",
   "metadata": {
    "id": "NHxdzJsQmugV",
    "pycharm": {
     "name": "#%% md\n"
    }
   },
   "source": [
    "### REINFORCE with baselines (Опционально)"
   ]
  },
  {
   "cell_type": "markdown",
   "metadata": {
    "id": "QM0DmpwlmugX",
    "pycharm": {
     "name": "#%% md\n"
    }
   },
   "source": [
    "В лекциях вы слышали, что при расчете градиентов для обновления параметров политики агента мы можем вычесть из суммы дисконтированных наград ```baseline``` для уменьшения дисперсии градиентов и ускорения сходимости обучения - такой алгоритм называется REINFORCE with baselines. В качестве ```baseline``` мы можем использовать другую нейронную сеть, которая будет оценивать сумму дисконтированных наград из данного состояния *V(s)*. "
   ]
  },
  {
   "cell_type": "markdown",
   "metadata": {
    "id": "jImFlpefmugX",
    "pycharm": {
     "name": "#%% md\n"
    }
   },
   "source": [
    "Схема алгоритма REINFORCE with baselines (Sutton & Barto) <img src=\"//i.imgur.com/j3BcbHP.png\" width=\"700\">"
   ]
  },
  {
   "cell_type": "markdown",
   "metadata": {
    "id": "ofDdKiKJmugY",
    "pycharm": {
     "name": "#%% md\n"
    }
   },
   "source": [
    "**Задание**: Включите в уже разработанный алгоритм вторую нейронную сеть для оценки суммы дисконтированных наград *V(s)*. Используйте разницу между фактической суммой дисконтированных наград и оценкой в формуле функции потерь политики. В качестве функции потерь для *V(s)* используйте ```MSELoss```. Оцените скорость сходимости нового алгоритма."
   ]
  }
 ],
 "metadata": {
  "accelerator": "GPU",
  "colab": {
   "collapsed_sections": [],
   "name": "REINFORCE.ipynb",
   "provenance": []
  },
  "kernelspec": {
   "display_name": "Python 3",
   "language": "python",
   "name": "python3"
  },
  "language_info": {
   "codemirror_mode": {
    "name": "ipython",
    "version": 3
   },
   "file_extension": ".py",
   "mimetype": "text/x-python",
   "name": "python",
   "nbconvert_exporter": "python",
   "pygments_lexer": "ipython3",
   "version": "3.7.0"
  }
 },
 "nbformat": 4,
 "nbformat_minor": 0
}