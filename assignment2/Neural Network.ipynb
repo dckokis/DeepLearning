{
 "cells": [
  {
   "cell_type": "markdown",
   "metadata": {},
   "source": [
    "# Задание 2.1 - Нейронные сети\n",
    "\n",
    "В этом задании вы реализуете и натренируете настоящую нейронную сеть своими руками!\n",
    "\n",
    "В некотором смысле это будет расширением прошлого задания - нам нужно просто составить несколько линейных классификаторов вместе!\n",
    "\n",
    "<img src=\"https://i.redd.it/n9fgba8b0qr01.png\" alt=\"Stack_more_layers\" width=\"400px\"/>"
   ]
  },
  {
   "cell_type": "code",
   "execution_count": 1,
   "metadata": {},
   "outputs": [],
   "source": [
    "import numpy as np\n",
    "import matplotlib.pyplot as plt\n",
    "\n",
    "% matplotlib inline\n",
    "\n",
    "% load_ext autoreload\n",
    "% autoreload 2"
   ]
  },
  {
   "cell_type": "code",
   "execution_count": 2,
   "metadata": {},
   "outputs": [],
   "source": [
    "from dataset import load_svhn, random_split_train_val\n",
    "from gradient_check import check_layer_gradient, check_layer_param_gradient, check_model_gradient\n",
    "from layers import FullyConnectedLayer, ReLULayer\n",
    "from model import TwoLayerNet\n",
    "from trainer import Trainer, Dataset\n",
    "from optim import SGD, MomentumSGD\n",
    "from metrics import multiclass_accuracy"
   ]
  },
  {
   "cell_type": "markdown",
   "metadata": {},
   "source": [
    "# Загружаем данные\n",
    "\n",
    "И разделяем их на training и validation."
   ]
  },
  {
   "cell_type": "code",
   "execution_count": 3,
   "metadata": {},
   "outputs": [],
   "source": [
    "def prepare_for_neural_network(train_X, test_X):\n",
    "    train_flat = train_X.reshape(train_X.shape[0], -1).astype(float) / 255.0\n",
    "    test_flat = test_X.reshape(test_X.shape[0], -1).astype(float) / 255.0\n",
    "\n",
    "    # Subtract mean\n",
    "    mean_image = np.mean(train_flat, axis=0)\n",
    "    train_flat -= mean_image\n",
    "    test_flat -= mean_image\n",
    "\n",
    "    return train_flat, test_flat\n",
    "\n",
    "\n",
    "train_X, train_y, test_X, test_y = load_svhn(\"data\", max_train=10000, max_test=1000)\n",
    "train_X, test_X = prepare_for_neural_network(train_X, test_X)\n",
    "# Split train into train and val\n",
    "train_X, train_y, val_X, val_y = random_split_train_val(train_X, train_y, num_val=1000)"
   ]
  },
  {
   "cell_type": "markdown",
   "metadata": {},
   "source": [
    "# Как всегда, начинаем с кирпичиков\n",
    "\n",
    "Мы будем реализовывать необходимые нам слои по очереди. Каждый слой должен реализовать:\n",
    "- прямой проход (forward pass), который генерирует выход слоя по входу и запоминает необходимые данные\n",
    "- обратный проход (backward pass), который получает градиент по выходу слоя и вычисляет градиент по входу и по параметрам\n",
    "\n",
    "Начнем с ReLU, у которого параметров нет."
   ]
  },
  {
   "cell_type": "code",
   "execution_count": 9,
   "metadata": {
    "scrolled": false
   },
   "outputs": [
    {
     "name": "stdout",
     "output_type": "stream",
     "text": [
      "Gradient check passed!\n"
     ]
    }
   ],
   "source": [
    "# TODO: Implement ReLULayer layer in layers.py\n",
    "# Note: you'll need to copy implementation of the gradient_check function from the previous assignment\n",
    "\n",
    "X = np.array([[1, -2, 3],\n",
    "              [-1, 2, 0.1]\n",
    "              ])\n",
    "\n",
    "assert check_layer_gradient(ReLULayer(), X)"
   ]
  },
  {
   "cell_type": "markdown",
   "metadata": {},
   "source": [
    "А теперь реализуем полносвязный слой (fully connected layer), у которого будет два массива параметров: W (weights) и B (bias).\n",
    "\n",
    "Все параметры наши слои будут использовать для параметров специальный класс `Param`, в котором будут храниться значения параметров и градиенты этих параметров, вычисляемые во время обратного прохода.\n",
    "\n",
    "Это даст возможность аккумулировать (суммировать) градиенты из разных частей функции потерь, например, из cross-entropy loss и regularization loss."
   ]
  },
  {
   "cell_type": "code",
   "execution_count": 18,
   "metadata": {},
   "outputs": [
    {
     "name": "stdout",
     "output_type": "stream",
     "text": [
      "Gradient check passed!\n",
      "Gradient check passed!\n",
      "Gradient check passed!\n"
     ]
    }
   ],
   "source": [
    "# TODO: Implement FullyConnected layer forward and backward methods\n",
    "assert check_layer_gradient(FullyConnectedLayer(3, 4), X)\n",
    "# TODO: Implement storing gradients for W and B\n",
    "assert check_layer_param_gradient(FullyConnectedLayer(3, 4), X, 'W')\n",
    "assert check_layer_param_gradient(FullyConnectedLayer(3, 4), X, 'B')"
   ]
  },
  {
   "cell_type": "markdown",
   "metadata": {},
   "source": [
    "## Создаем нейронную сеть\n",
    "\n",
    "Теперь мы реализуем простейшую нейронную сеть с двумя полносвязным слоями и нелинейностью ReLU. Реализуйте функцию `compute_loss_and_gradients`, она должна запустить прямой и обратный проход через оба слоя для вычисления градиентов.\n",
    "\n",
    "Не забудьте реализовать очистку градиентов в начале функции."
   ]
  },
  {
   "cell_type": "code",
   "execution_count": 36,
   "metadata": {},
   "outputs": [
    {
     "name": "stdout",
     "output_type": "stream",
     "text": [
      "Checking gradient for l1W\n",
      "Gradient check passed!\n",
      "Checking gradient for l1B\n",
      "Gradient check passed!\n",
      "Checking gradient for l2W\n",
      "Gradient check passed!\n",
      "Checking gradient for l2B\n",
      "Gradient check passed!\n"
     ]
    },
    {
     "data": {
      "text/plain": "True"
     },
     "execution_count": 36,
     "metadata": {},
     "output_type": "execute_result"
    }
   ],
   "source": [
    "# TODO: In model.py, implement compute_loss_and_gradients function\n",
    "model = TwoLayerNet(n_input=train_X.shape[1], n_output=10, hidden_layer_size=3, reg=0)\n",
    "loss = model.compute_loss_and_gradients(train_X[:2], train_y[:2])\n",
    "\n",
    "# TODO Now implement backward pass and aggregate all the params\n",
    "check_model_gradient(model, train_X[:2], train_y[:2])"
   ]
  },
  {
   "cell_type": "markdown",
   "metadata": {},
   "source": [
    "Теперь добавьте к модели регуляризацию - она должна прибавляться к loss и делать свой вклад в градиенты."
   ]
  },
  {
   "cell_type": "code",
   "execution_count": 40,
   "metadata": {},
   "outputs": [
    {
     "name": "stdout",
     "output_type": "stream",
     "text": [
      "Checking gradient for l1W\n",
      "Gradient check passed!\n",
      "Checking gradient for l1B\n",
      "Gradient check passed!\n",
      "Checking gradient for l2W\n",
      "Gradient check passed!\n",
      "Checking gradient for l2B\n",
      "Gradient check passed!\n"
     ]
    },
    {
     "data": {
      "text/plain": "True"
     },
     "execution_count": 40,
     "metadata": {},
     "output_type": "execute_result"
    }
   ],
   "source": [
    "# TODO Now implement l2 regularization in the forward and backward pass\n",
    "model_with_reg = TwoLayerNet(n_input=train_X.shape[1], n_output=10, hidden_layer_size=3, reg=1e1)\n",
    "loss_with_reg = model_with_reg.compute_loss_and_gradients(train_X[:2], train_y[:2])\n",
    "assert loss_with_reg > loss and not np.isclose(loss_with_reg,\n",
    "                                               loss), \"Loss with regularization (%2.4f) should be higher than without it (%2.4f)!\" % (\n",
    "    loss, loss_with_reg)\n",
    "\n",
    "check_model_gradient(model_with_reg, train_X[:2], train_y[:2])"
   ]
  },
  {
   "cell_type": "markdown",
   "metadata": {},
   "source": [
    "Также реализуем функцию предсказания (вычисления значения) модели на новых данных.\n",
    "\n",
    "Какое значение точности мы ожидаем увидеть до начала тренировки?"
   ]
  },
  {
   "cell_type": "code",
   "execution_count": 42,
   "metadata": {},
   "outputs": [
    {
     "data": {
      "text/plain": "0.16666666666666666"
     },
     "execution_count": 42,
     "metadata": {},
     "output_type": "execute_result"
    }
   ],
   "source": [
    "# Finally, implement predict function!\n",
    "\n",
    "# TODO: Implement predict function\n",
    "# What would be the value we expect?\n",
    "multiclass_accuracy(model_with_reg.predict(train_X[:30]), train_y[:30])"
   ]
  },
  {
   "cell_type": "markdown",
   "metadata": {},
   "source": [
    "# Допишем код для процесса тренировки\n",
    "\n",
    "Если все реализовано корректно, значение функции ошибки должно уменьшаться с каждой эпохой, пусть и медленно. Не беспокойтесь пока про validation accuracy."
   ]
  },
  {
   "cell_type": "code",
   "execution_count": 52,
   "metadata": {},
   "outputs": [
    {
     "name": "stdout",
     "output_type": "stream",
     "text": [
      "Loss: 2.309792, Train accuracy: 0.196667, val accuracy: 0.206000\n",
      "Loss: 2.282294, Train accuracy: 0.196667, val accuracy: 0.206000\n",
      "Loss: 2.256756, Train accuracy: 0.196667, val accuracy: 0.206000\n",
      "Loss: 2.170229, Train accuracy: 0.196667, val accuracy: 0.206000\n",
      "Loss: 2.209216, Train accuracy: 0.196667, val accuracy: 0.206000\n",
      "Loss: 2.187711, Train accuracy: 0.196667, val accuracy: 0.206000\n",
      "Loss: 2.280544, Train accuracy: 0.196667, val accuracy: 0.206000\n",
      "Loss: 2.107015, Train accuracy: 0.196667, val accuracy: 0.206000\n",
      "Loss: 2.020505, Train accuracy: 0.208556, val accuracy: 0.214000\n",
      "Loss: 2.197144, Train accuracy: 0.242556, val accuracy: 0.243000\n",
      "Loss: 1.852429, Train accuracy: 0.261000, val accuracy: 0.262000\n",
      "Loss: 2.128236, Train accuracy: 0.276000, val accuracy: 0.275000\n",
      "Loss: 2.162920, Train accuracy: 0.279000, val accuracy: 0.280000\n",
      "Loss: 2.043797, Train accuracy: 0.290333, val accuracy: 0.293000\n",
      "Loss: 2.162220, Train accuracy: 0.328333, val accuracy: 0.337000\n",
      "Loss: 1.830220, Train accuracy: 0.370556, val accuracy: 0.363000\n",
      "Loss: 1.760451, Train accuracy: 0.396222, val accuracy: 0.395000\n",
      "Loss: 1.878577, Train accuracy: 0.421556, val accuracy: 0.418000\n",
      "Loss: 1.736381, Train accuracy: 0.438333, val accuracy: 0.424000\n",
      "Loss: 1.917419, Train accuracy: 0.465556, val accuracy: 0.460000\n"
     ]
    }
   ],
   "source": [
    "model = TwoLayerNet(n_input=train_X.shape[1], n_output=10, hidden_layer_size=100, reg=1e-3)\n",
    "dataset = Dataset(train_X, train_y, val_X, val_y)\n",
    "trainer = Trainer(model, dataset, SGD(), learning_rate=1e-2)\n",
    "\n",
    "# TODO Implement missing pieces in Trainer.fit function\n",
    "# You should expect loss to go down every epoch, even if it's slow\n",
    "loss_history, train_history, val_history = trainer.fit()"
   ]
  },
  {
   "cell_type": "code",
   "execution_count": 53,
   "metadata": {},
   "outputs": [
    {
     "data": {
      "text/plain": "[<matplotlib.lines.Line2D at 0x1edad2ffbb0>]"
     },
     "execution_count": 53,
     "metadata": {},
     "output_type": "execute_result"
    },
    {
     "data": {
      "text/plain": "<Figure size 432x288 with 2 Axes>",
      "image/png": "[encoded data removed]"
     },
     "metadata": {
      "needs_background": "light"
     },
     "output_type": "display_data"
    }
   ],
   "source": [
    "plt.figure()\n",
    "plt.subplot(2, 1, 1)\n",
    "plt.plot(train_history)\n",
    "plt.plot(val_history)\n",
    "plt.subplot(2, 1, 2)\n",
    "plt.plot(loss_history)"
   ]
  },
  {
   "cell_type": "markdown",
   "metadata": {},
   "source": [
    "# Улучшаем процесс тренировки\n",
    "\n",
    "Мы реализуем несколько ключевых оптимизаций, необходимых для тренировки современных нейросетей."
   ]
  },
  {
   "cell_type": "markdown",
   "metadata": {},
   "source": [
    "## Уменьшение скорости обучения (learning rate decay)\n",
    "\n",
    "Одна из необходимых оптимизаций во время тренировки нейронных сетей - постепенное уменьшение скорости обучения по мере тренировки.\n",
    "\n",
    "Один из стандартных методов - уменьшение скорости обучения (learning rate) каждые N эпох на коэффициент d (часто называемый decay). Значения N и d, как всегда, являются гиперпараметрами и должны подбираться на основе эффективности на проверочных данных (validation data). \n",
    "\n",
    "В нашем случае N будет равным 1."
   ]
  },
  {
   "cell_type": "code",
   "execution_count": 62,
   "metadata": {},
   "outputs": [
    {
     "name": "stdout",
     "output_type": "stream",
     "text": [
      "Loss: 2.306740, Train accuracy: 0.196667, val accuracy: 0.206000\n",
      "Loss: 2.208450, Train accuracy: 0.196667, val accuracy: 0.206000\n",
      "Loss: 2.316165, Train accuracy: 0.196667, val accuracy: 0.206000\n",
      "Loss: 2.254514, Train accuracy: 0.196667, val accuracy: 0.206000\n",
      "Loss: 2.297402, Train accuracy: 0.196667, val accuracy: 0.206000\n",
      "Loss: 2.217750, Train accuracy: 0.196667, val accuracy: 0.206000\n",
      "Loss: 2.310141, Train accuracy: 0.196667, val accuracy: 0.206000\n",
      "Loss: 2.179884, Train accuracy: 0.196667, val accuracy: 0.206000\n",
      "Loss: 2.184008, Train accuracy: 0.199667, val accuracy: 0.210000\n",
      "Loss: 2.097860, Train accuracy: 0.225222, val accuracy: 0.228000\n",
      "Loss: 1.936780, Train accuracy: 0.240111, val accuracy: 0.242000\n",
      "Loss: 2.222296, Train accuracy: 0.263333, val accuracy: 0.258000\n",
      "Loss: 2.030320, Train accuracy: 0.276444, val accuracy: 0.274000\n",
      "Loss: 1.800107, Train accuracy: 0.289444, val accuracy: 0.291000\n",
      "Loss: 1.903137, Train accuracy: 0.314000, val accuracy: 0.321000\n",
      "Loss: 1.841000, Train accuracy: 0.343333, val accuracy: 0.344000\n",
      "Loss: 1.920855, Train accuracy: 0.374111, val accuracy: 0.364000\n",
      "Loss: 1.970868, Train accuracy: 0.389111, val accuracy: 0.379000\n",
      "Loss: 1.639364, Train accuracy: 0.412111, val accuracy: 0.395000\n",
      "Loss: 1.836269, Train accuracy: 0.431444, val accuracy: 0.420000\n",
      "Loss: 1.577492, Train accuracy: 0.452000, val accuracy: 0.445000\n",
      "Loss: 1.614894, Train accuracy: 0.469222, val accuracy: 0.457000\n",
      "Loss: 1.327692, Train accuracy: 0.496556, val accuracy: 0.485000\n",
      "Loss: 1.416407, Train accuracy: 0.507111, val accuracy: 0.504000\n",
      "Loss: 1.533810, Train accuracy: 0.517222, val accuracy: 0.507000\n",
      "Loss: 1.891789, Train accuracy: 0.538111, val accuracy: 0.541000\n",
      "Loss: 1.718690, Train accuracy: 0.551444, val accuracy: 0.541000\n",
      "Loss: 1.234567, Train accuracy: 0.566111, val accuracy: 0.550000\n",
      "Loss: 1.672307, Train accuracy: 0.579000, val accuracy: 0.570000\n",
      "Loss: 1.428061, Train accuracy: 0.585556, val accuracy: 0.576000\n",
      "Loss: 1.543475, Train accuracy: 0.596889, val accuracy: 0.575000\n",
      "Loss: 1.392011, Train accuracy: 0.610000, val accuracy: 0.587000\n",
      "Loss: 1.008380, Train accuracy: 0.612333, val accuracy: 0.597000\n",
      "Loss: 0.975365, Train accuracy: 0.627000, val accuracy: 0.610000\n",
      "Loss: 1.191406, Train accuracy: 0.630556, val accuracy: 0.617000\n",
      "Loss: 1.103822, Train accuracy: 0.640444, val accuracy: 0.628000\n",
      "Loss: 0.774397, Train accuracy: 0.644444, val accuracy: 0.626000\n",
      "Loss: 1.182555, Train accuracy: 0.655667, val accuracy: 0.636000\n",
      "Loss: 1.174174, Train accuracy: 0.665778, val accuracy: 0.646000\n",
      "Loss: 0.890518, Train accuracy: 0.667111, val accuracy: 0.650000\n",
      "Loss: 1.349158, Train accuracy: 0.673778, val accuracy: 0.656000\n",
      "Loss: 1.373417, Train accuracy: 0.682444, val accuracy: 0.659000\n",
      "Loss: 1.284176, Train accuracy: 0.683667, val accuracy: 0.669000\n",
      "Loss: 1.178732, Train accuracy: 0.682889, val accuracy: 0.673000\n",
      "Loss: 1.536491, Train accuracy: 0.691444, val accuracy: 0.671000\n",
      "Loss: 1.431759, Train accuracy: 0.695000, val accuracy: 0.680000\n",
      "Loss: 0.953924, Train accuracy: 0.697111, val accuracy: 0.685000\n",
      "Loss: 1.170342, Train accuracy: 0.701667, val accuracy: 0.687000\n",
      "Loss: 0.969788, Train accuracy: 0.703556, val accuracy: 0.682000\n",
      "Loss: 1.139123, Train accuracy: 0.706333, val accuracy: 0.689000\n"
     ]
    }
   ],
   "source": [
    "# TODO Implement learning rate decay inside Trainer.fit method\n",
    "# Decay should happen once per epoch\n",
    "\n",
    "model = TwoLayerNet(n_input=train_X.shape[1], n_output=10, hidden_layer_size=100, reg=1e-3)\n",
    "dataset = Dataset(train_X, train_y, val_X, val_y)\n",
    "trainer = Trainer(model, dataset, SGD(), learning_rate_decay=0.99, num_epochs=50, learning_rate=1e-2)\n",
    "\n",
    "initial_learning_rate = trainer.learning_rate\n",
    "loss_history, train_history, val_history = trainer.fit()\n",
    "\n",
    "assert trainer.learning_rate < initial_learning_rate, \"Learning rate should've been reduced\"\n",
    "assert trainer.learning_rate > 0.5 * initial_learning_rate, \"Learning rate shouldn't have been reduced that much!\""
   ]
  },
  {
   "cell_type": "code",
   "execution_count": 63,
   "outputs": [
    {
     "data": {
      "text/plain": "[<matplotlib.lines.Line2D at 0x1edac161780>]"
     },
     "execution_count": 63,
     "metadata": {},
     "output_type": "execute_result"
    },
    {
     "data": {
      "text/plain": "<Figure size 432x288 with 2 Axes>",
      "image/png": "[encoded data removed]"
     },
     "metadata": {
      "needs_background": "light"
     },
     "output_type": "display_data"
    }
   ],
   "source": [
    "plt.figure()\n",
    "plt.subplot(2, 1, 1)\n",
    "plt.plot(train_history)\n",
    "plt.plot(val_history)\n",
    "plt.subplot(2, 1, 2)\n",
    "plt.plot(loss_history)"
   ],
   "metadata": {
    "collapsed": false,
    "pycharm": {
     "name": "#%%\n"
    }
   }
  },
  {
   "cell_type": "markdown",
   "metadata": {},
   "source": [
    "# Накопление импульса (Momentum SGD)\n",
    "\n",
    "Другой большой класс оптимизаций - использование более эффективных методов градиентного спуска. Мы реализуем один из них - накопление импульса (Momentum SGD).\n",
    "\n",
    "Этот метод хранит скорость движения, использует градиент для ее изменения на каждом шаге, и изменяет веса пропорционально значению скорости.\n",
    "(Физическая аналогия: Вместо скорости градиенты теперь будут задавать ускорение, но будет присутствовать сила трения.)\n",
    "\n",
    "```\n",
    "velocity = momentum * velocity - learning_rate * gradient \n",
    "w = w + velocity\n",
    "```\n",
    "\n",
    "`momentum` здесь коэффициент затухания, который тоже является гиперпараметром (к счастью, для него часто есть хорошее значение по умолчанию, типичный диапазон -- 0.8-0.99).\n",
    "\n",
    "Несколько полезных ссылок, где метод разбирается более подробно:\n",
    "http://cs231n.github.io/neural-networks-3/#sgd\n",
    "https://distill.pub/2017/momentum/"
   ]
  },
  {
   "cell_type": "code",
   "execution_count": 66,
   "metadata": {},
   "outputs": [
    {
     "name": "stdout",
     "output_type": "stream",
     "text": [
      "Loss: 2.136587, Train accuracy: 0.196667, val accuracy: 0.206000\n",
      "Loss: 1.912982, Train accuracy: 0.417667, val accuracy: 0.419000\n",
      "Loss: 1.685642, Train accuracy: 0.556667, val accuracy: 0.545000\n",
      "Loss: 1.088759, Train accuracy: 0.607111, val accuracy: 0.588000\n",
      "Loss: 1.572457, Train accuracy: 0.677778, val accuracy: 0.649000\n",
      "Loss: 0.858187, Train accuracy: 0.684000, val accuracy: 0.652000\n",
      "Loss: 1.091799, Train accuracy: 0.688667, val accuracy: 0.662000\n",
      "Loss: 1.242675, Train accuracy: 0.719444, val accuracy: 0.696000\n",
      "Loss: 1.067509, Train accuracy: 0.702778, val accuracy: 0.660000\n",
      "Loss: 0.974431, Train accuracy: 0.731444, val accuracy: 0.706000\n",
      "Loss: 1.210533, Train accuracy: 0.749333, val accuracy: 0.701000\n",
      "Loss: 1.233849, Train accuracy: 0.746667, val accuracy: 0.693000\n",
      "Loss: 0.652102, Train accuracy: 0.786111, val accuracy: 0.712000\n",
      "Loss: 0.875640, Train accuracy: 0.768556, val accuracy: 0.694000\n",
      "Loss: 1.216930, Train accuracy: 0.781333, val accuracy: 0.709000\n",
      "Loss: 0.849923, Train accuracy: 0.797333, val accuracy: 0.731000\n",
      "Loss: 1.425559, Train accuracy: 0.782889, val accuracy: 0.716000\n",
      "Loss: 0.848681, Train accuracy: 0.792889, val accuracy: 0.723000\n",
      "Loss: 1.084739, Train accuracy: 0.797667, val accuracy: 0.720000\n",
      "Loss: 1.158209, Train accuracy: 0.797778, val accuracy: 0.724000\n"
     ]
    }
   ],
   "source": [
    "# TODO: Implement MomentumSGD.update function in optim.py\n",
    "\n",
    "model = TwoLayerNet(n_input=train_X.shape[1], n_output=10, hidden_layer_size=100, reg=1e-3)\n",
    "dataset = Dataset(train_X, train_y, val_X, val_y)\n",
    "trainer = Trainer(model, dataset, MomentumSGD(), learning_rate=1e-2, learning_rate_decay=0.99)\n",
    "\n",
    "# You should see even better results than before!\n",
    "loss_history, train_history, val_history = trainer.fit()"
   ]
  },
  {
   "cell_type": "code",
   "execution_count": 69,
   "outputs": [
    {
     "data": {
      "text/plain": "[<matplotlib.lines.Line2D at 0x1edad38f850>]"
     },
     "execution_count": 69,
     "metadata": {},
     "output_type": "execute_result"
    },
    {
     "data": {
      "text/plain": "<Figure size 432x288 with 2 Axes>",
      "image/png": "[encoded data removed]"
     },
     "metadata": {
      "needs_background": "light"
     },
     "output_type": "display_data"
    }
   ],
   "source": [
    "plt.figure()\n",
    "plt.subplot(2, 1, 1)\n",
    "plt.plot(train_history)\n",
    "plt.plot(val_history)\n",
    "plt.subplot(2, 1, 2)\n",
    "plt.plot(loss_history)"
   ],
   "metadata": {
    "collapsed": false,
    "pycharm": {
     "name": "#%%\n"
    }
   }
  },
  {
   "cell_type": "markdown",
   "metadata": {},
   "source": [
    "# Ну что, давайте уже тренировать сеть!"
   ]
  },
  {
   "cell_type": "markdown",
   "metadata": {},
   "source": [
    "## Последний тест - переобучимся (over-fit) на маленьком наборе данных\n",
    "\n",
    "Хороший способ проверить, все ли реализовано корректно - переобучить сеть на маленьком наборе данных.  \n",
    "Наша модель обладает достаточной мощностью, чтобы приблизить маленький набор данных идеально, поэтому мы ожидаем, что на нем мы быстро дойдем до 100% точности на тренировочном наборе. \n",
    "\n",
    "Если этого не происходит, то где-то была допущена ошибка!"
   ]
  },
  {
   "cell_type": "code",
   "execution_count": 70,
   "metadata": {},
   "outputs": [
    {
     "name": "stdout",
     "output_type": "stream",
     "text": [
      "Loss: 2.334829, Train accuracy: 0.200000, val accuracy: 0.133333\n",
      "Loss: 2.328331, Train accuracy: 0.200000, val accuracy: 0.133333\n",
      "Loss: 2.354870, Train accuracy: 0.200000, val accuracy: 0.133333\n",
      "Loss: 2.315787, Train accuracy: 0.200000, val accuracy: 0.133333\n",
      "Loss: 2.293524, Train accuracy: 0.200000, val accuracy: 0.133333\n",
      "Loss: 2.306635, Train accuracy: 0.200000, val accuracy: 0.133333\n",
      "Loss: 2.317765, Train accuracy: 0.200000, val accuracy: 0.133333\n",
      "Loss: 2.280378, Train accuracy: 0.200000, val accuracy: 0.066667\n",
      "Loss: 2.129841, Train accuracy: 0.400000, val accuracy: 0.000000\n",
      "Loss: 2.107946, Train accuracy: 0.400000, val accuracy: 0.000000\n",
      "Loss: 2.210227, Train accuracy: 0.400000, val accuracy: 0.000000\n",
      "Loss: 2.058414, Train accuracy: 0.400000, val accuracy: 0.000000\n",
      "Loss: 2.001074, Train accuracy: 0.400000, val accuracy: 0.000000\n",
      "Loss: 2.127226, Train accuracy: 0.333333, val accuracy: 0.000000\n",
      "Loss: 1.662576, Train accuracy: 0.333333, val accuracy: 0.000000\n",
      "Loss: 1.870725, Train accuracy: 0.333333, val accuracy: 0.000000\n",
      "Loss: 1.428339, Train accuracy: 0.400000, val accuracy: 0.000000\n",
      "Loss: 2.223551, Train accuracy: 0.400000, val accuracy: 0.000000\n",
      "Loss: 1.543827, Train accuracy: 0.400000, val accuracy: 0.000000\n",
      "Loss: 1.705039, Train accuracy: 0.400000, val accuracy: 0.000000\n",
      "Loss: 1.651321, Train accuracy: 0.400000, val accuracy: 0.000000\n",
      "Loss: 1.939395, Train accuracy: 0.400000, val accuracy: 0.000000\n",
      "Loss: 2.300769, Train accuracy: 0.466667, val accuracy: 0.066667\n",
      "Loss: 1.931193, Train accuracy: 0.400000, val accuracy: 0.000000\n",
      "Loss: 1.915443, Train accuracy: 0.466667, val accuracy: 0.066667\n",
      "Loss: 1.648851, Train accuracy: 0.466667, val accuracy: 0.000000\n",
      "Loss: 2.047753, Train accuracy: 0.466667, val accuracy: 0.066667\n",
      "Loss: 1.642261, Train accuracy: 0.466667, val accuracy: 0.066667\n",
      "Loss: 1.336336, Train accuracy: 0.533333, val accuracy: 0.000000\n",
      "Loss: 1.910337, Train accuracy: 0.533333, val accuracy: 0.000000\n",
      "Loss: 1.759634, Train accuracy: 0.466667, val accuracy: 0.000000\n",
      "Loss: 1.645429, Train accuracy: 0.533333, val accuracy: 0.066667\n",
      "Loss: 1.877709, Train accuracy: 0.533333, val accuracy: 0.066667\n",
      "Loss: 1.494334, Train accuracy: 0.533333, val accuracy: 0.066667\n",
      "Loss: 1.911672, Train accuracy: 0.666667, val accuracy: 0.066667\n",
      "Loss: 1.217065, Train accuracy: 0.600000, val accuracy: 0.066667\n",
      "Loss: 1.907670, Train accuracy: 0.600000, val accuracy: 0.066667\n",
      "Loss: 1.485006, Train accuracy: 0.666667, val accuracy: 0.066667\n",
      "Loss: 1.248371, Train accuracy: 0.666667, val accuracy: 0.000000\n",
      "Loss: 1.085397, Train accuracy: 0.666667, val accuracy: 0.066667\n",
      "Loss: 0.987476, Train accuracy: 0.600000, val accuracy: 0.066667\n",
      "Loss: 1.513550, Train accuracy: 0.666667, val accuracy: 0.066667\n",
      "Loss: 2.006910, Train accuracy: 0.733333, val accuracy: 0.066667\n",
      "Loss: 1.277200, Train accuracy: 0.666667, val accuracy: 0.066667\n",
      "Loss: 1.573244, Train accuracy: 0.733333, val accuracy: 0.066667\n",
      "Loss: 1.378338, Train accuracy: 0.733333, val accuracy: 0.000000\n",
      "Loss: 1.939829, Train accuracy: 0.733333, val accuracy: 0.066667\n",
      "Loss: 0.967749, Train accuracy: 0.733333, val accuracy: 0.000000\n",
      "Loss: 1.478348, Train accuracy: 0.733333, val accuracy: 0.066667\n",
      "Loss: 1.183421, Train accuracy: 0.733333, val accuracy: 0.066667\n",
      "Loss: 1.320946, Train accuracy: 0.733333, val accuracy: 0.066667\n",
      "Loss: 1.295587, Train accuracy: 0.733333, val accuracy: 0.133333\n",
      "Loss: 1.970969, Train accuracy: 0.733333, val accuracy: 0.066667\n",
      "Loss: 1.568752, Train accuracy: 0.733333, val accuracy: 0.066667\n",
      "Loss: 2.014564, Train accuracy: 0.733333, val accuracy: 0.066667\n",
      "Loss: 0.971852, Train accuracy: 0.733333, val accuracy: 0.066667\n",
      "Loss: 1.085991, Train accuracy: 0.733333, val accuracy: 0.066667\n",
      "Loss: 1.283340, Train accuracy: 0.800000, val accuracy: 0.066667\n",
      "Loss: 1.607425, Train accuracy: 0.800000, val accuracy: 0.066667\n",
      "Loss: 1.074504, Train accuracy: 0.800000, val accuracy: 0.066667\n",
      "Loss: 1.313062, Train accuracy: 0.800000, val accuracy: 0.066667\n",
      "Loss: 2.070732, Train accuracy: 0.800000, val accuracy: 0.066667\n",
      "Loss: 1.270226, Train accuracy: 0.800000, val accuracy: 0.066667\n",
      "Loss: 1.430091, Train accuracy: 0.800000, val accuracy: 0.066667\n",
      "Loss: 1.465878, Train accuracy: 0.800000, val accuracy: 0.066667\n",
      "Loss: 1.739374, Train accuracy: 0.733333, val accuracy: 0.066667\n",
      "Loss: 1.837786, Train accuracy: 0.800000, val accuracy: 0.066667\n",
      "Loss: 1.518229, Train accuracy: 0.800000, val accuracy: 0.066667\n",
      "Loss: 1.625903, Train accuracy: 0.800000, val accuracy: 0.066667\n",
      "Loss: 1.333660, Train accuracy: 0.800000, val accuracy: 0.066667\n",
      "Loss: 0.803068, Train accuracy: 0.866667, val accuracy: 0.066667\n",
      "Loss: 1.299466, Train accuracy: 0.866667, val accuracy: 0.066667\n",
      "Loss: 1.313327, Train accuracy: 0.866667, val accuracy: 0.066667\n",
      "Loss: 1.399181, Train accuracy: 0.866667, val accuracy: 0.066667\n",
      "Loss: 1.602716, Train accuracy: 0.866667, val accuracy: 0.066667\n",
      "Loss: 1.598994, Train accuracy: 0.866667, val accuracy: 0.066667\n",
      "Loss: 1.225795, Train accuracy: 0.866667, val accuracy: 0.066667\n",
      "Loss: 1.259462, Train accuracy: 0.866667, val accuracy: 0.066667\n",
      "Loss: 1.702775, Train accuracy: 0.866667, val accuracy: 0.066667\n",
      "Loss: 1.445210, Train accuracy: 0.866667, val accuracy: 0.066667\n",
      "Loss: 1.521485, Train accuracy: 0.866667, val accuracy: 0.066667\n",
      "Loss: 1.244307, Train accuracy: 0.866667, val accuracy: 0.066667\n",
      "Loss: 1.275575, Train accuracy: 0.866667, val accuracy: 0.066667\n",
      "Loss: 1.004141, Train accuracy: 0.866667, val accuracy: 0.066667\n",
      "Loss: 1.194475, Train accuracy: 0.866667, val accuracy: 0.066667\n",
      "Loss: 1.263461, Train accuracy: 0.866667, val accuracy: 0.066667\n",
      "Loss: 1.754209, Train accuracy: 0.866667, val accuracy: 0.066667\n",
      "Loss: 1.629241, Train accuracy: 0.866667, val accuracy: 0.066667\n",
      "Loss: 1.547993, Train accuracy: 0.866667, val accuracy: 0.066667\n",
      "Loss: 1.036556, Train accuracy: 0.866667, val accuracy: 0.066667\n",
      "Loss: 2.058820, Train accuracy: 0.866667, val accuracy: 0.066667\n",
      "Loss: 1.250319, Train accuracy: 0.866667, val accuracy: 0.066667\n",
      "Loss: 1.140589, Train accuracy: 0.866667, val accuracy: 0.000000\n",
      "Loss: 1.282910, Train accuracy: 0.866667, val accuracy: 0.000000\n",
      "Loss: 1.119412, Train accuracy: 0.866667, val accuracy: 0.000000\n",
      "Loss: 1.224817, Train accuracy: 0.866667, val accuracy: 0.000000\n",
      "Loss: 1.326526, Train accuracy: 0.866667, val accuracy: 0.000000\n",
      "Loss: 1.445679, Train accuracy: 0.866667, val accuracy: 0.000000\n",
      "Loss: 1.064940, Train accuracy: 0.866667, val accuracy: 0.000000\n",
      "Loss: 1.314735, Train accuracy: 0.933333, val accuracy: 0.000000\n",
      "Loss: 1.065542, Train accuracy: 0.933333, val accuracy: 0.000000\n",
      "Loss: 1.358780, Train accuracy: 0.866667, val accuracy: 0.000000\n",
      "Loss: 1.021351, Train accuracy: 0.866667, val accuracy: 0.000000\n",
      "Loss: 1.441962, Train accuracy: 0.933333, val accuracy: 0.000000\n",
      "Loss: 1.645465, Train accuracy: 0.933333, val accuracy: 0.000000\n",
      "Loss: 1.592500, Train accuracy: 0.933333, val accuracy: 0.000000\n",
      "Loss: 1.642960, Train accuracy: 0.933333, val accuracy: 0.000000\n",
      "Loss: 1.232350, Train accuracy: 0.933333, val accuracy: 0.000000\n",
      "Loss: 1.050666, Train accuracy: 0.866667, val accuracy: 0.000000\n",
      "Loss: 0.982857, Train accuracy: 0.866667, val accuracy: 0.000000\n",
      "Loss: 1.271401, Train accuracy: 0.933333, val accuracy: 0.000000\n",
      "Loss: 1.262987, Train accuracy: 0.933333, val accuracy: 0.000000\n",
      "Loss: 1.424270, Train accuracy: 0.933333, val accuracy: 0.000000\n",
      "Loss: 1.179323, Train accuracy: 0.933333, val accuracy: 0.000000\n",
      "Loss: 1.326918, Train accuracy: 1.000000, val accuracy: 0.000000\n",
      "Loss: 1.526392, Train accuracy: 1.000000, val accuracy: 0.000000\n",
      "Loss: 1.287471, Train accuracy: 1.000000, val accuracy: 0.000000\n",
      "Loss: 1.395664, Train accuracy: 1.000000, val accuracy: 0.000000\n",
      "Loss: 1.308453, Train accuracy: 1.000000, val accuracy: 0.000000\n",
      "Loss: 1.458354, Train accuracy: 1.000000, val accuracy: 0.000000\n",
      "Loss: 1.417336, Train accuracy: 1.000000, val accuracy: 0.000000\n",
      "Loss: 1.215651, Train accuracy: 1.000000, val accuracy: 0.000000\n",
      "Loss: 1.112426, Train accuracy: 1.000000, val accuracy: 0.000000\n",
      "Loss: 1.339985, Train accuracy: 1.000000, val accuracy: 0.000000\n",
      "Loss: 1.277676, Train accuracy: 1.000000, val accuracy: 0.000000\n",
      "Loss: 1.639950, Train accuracy: 1.000000, val accuracy: 0.000000\n",
      "Loss: 1.053362, Train accuracy: 1.000000, val accuracy: 0.000000\n",
      "Loss: 1.247562, Train accuracy: 1.000000, val accuracy: 0.000000\n",
      "Loss: 1.367410, Train accuracy: 1.000000, val accuracy: 0.000000\n",
      "Loss: 1.232859, Train accuracy: 1.000000, val accuracy: 0.000000\n",
      "Loss: 1.212041, Train accuracy: 1.000000, val accuracy: 0.000000\n",
      "Loss: 1.159426, Train accuracy: 1.000000, val accuracy: 0.000000\n",
      "Loss: 1.577779, Train accuracy: 1.000000, val accuracy: 0.000000\n",
      "Loss: 1.572325, Train accuracy: 1.000000, val accuracy: 0.000000\n",
      "Loss: 1.409453, Train accuracy: 1.000000, val accuracy: 0.000000\n",
      "Loss: 1.347232, Train accuracy: 1.000000, val accuracy: 0.000000\n",
      "Loss: 1.479939, Train accuracy: 1.000000, val accuracy: 0.000000\n",
      "Loss: 1.130484, Train accuracy: 1.000000, val accuracy: 0.000000\n",
      "Loss: 1.276223, Train accuracy: 1.000000, val accuracy: 0.000000\n",
      "Loss: 1.476727, Train accuracy: 1.000000, val accuracy: 0.000000\n",
      "Loss: 1.283527, Train accuracy: 1.000000, val accuracy: 0.000000\n",
      "Loss: 1.528200, Train accuracy: 1.000000, val accuracy: 0.000000\n",
      "Loss: 1.316105, Train accuracy: 1.000000, val accuracy: 0.000000\n",
      "Loss: 1.269313, Train accuracy: 1.000000, val accuracy: 0.000000\n",
      "Loss: 1.237299, Train accuracy: 1.000000, val accuracy: 0.000000\n",
      "Loss: 1.162676, Train accuracy: 1.000000, val accuracy: 0.000000\n",
      "Loss: 1.419879, Train accuracy: 1.000000, val accuracy: 0.000000\n",
      "Loss: 1.500442, Train accuracy: 1.000000, val accuracy: 0.000000\n",
      "Loss: 1.339701, Train accuracy: 1.000000, val accuracy: 0.000000\n",
      "Loss: 1.106450, Train accuracy: 1.000000, val accuracy: 0.000000\n"
     ]
    }
   ],
   "source": [
    "data_size = 15\n",
    "model = TwoLayerNet(n_input=train_X.shape[1], n_output=10, hidden_layer_size=100, reg=1e-1)\n",
    "dataset = Dataset(train_X[:data_size], train_y[:data_size], val_X[:data_size], val_y[:data_size])\n",
    "trainer = Trainer(model, dataset, SGD(), learning_rate=1e-1, num_epochs=150, batch_size=5)\n",
    "\n",
    "# You should expect this to reach 1.0 training accuracy \n",
    "loss_history, train_history, val_history = trainer.fit()"
   ]
  },
  {
   "cell_type": "code",
   "execution_count": 71,
   "outputs": [
    {
     "data": {
      "text/plain": "[<matplotlib.lines.Line2D at 0x1edad4605b0>]"
     },
     "execution_count": 71,
     "metadata": {},
     "output_type": "execute_result"
    },
    {
     "data": {
      "text/plain": "<Figure size 432x288 with 2 Axes>",
      "image/png": "[encoded data removed]"
     },
     "metadata": {
      "needs_background": "light"
     },
     "output_type": "display_data"
    }
   ],
   "source": [
    "plt.figure()\n",
    "plt.subplot(2, 1, 1)\n",
    "plt.plot(train_history)\n",
    "plt.plot(val_history)\n",
    "plt.subplot(2, 1, 2)\n",
    "plt.plot(loss_history)"
   ],
   "metadata": {
    "collapsed": false,
    "pycharm": {
     "name": "#%%\n"
    }
   }
  },
  {
   "cell_type": "markdown",
   "metadata": {},
   "source": [
    "Теперь найдем гипепараметры, для которых этот процесс сходится быстрее.\n",
    "Если все реализовано корректно, то существуют параметры, при которых процесс сходится в **20** эпох или еще быстрее.\n",
    "Найдите их!"
   ]
  },
  {
   "cell_type": "code",
   "execution_count": 82,
   "metadata": {},
   "outputs": [
    {
     "name": "stdout",
     "output_type": "stream",
     "text": [
      "Loss: 2.406025, Train accuracy: 0.200000, val accuracy: 0.133333\n",
      "Loss: 2.186971, Train accuracy: 0.200000, val accuracy: 0.066667\n",
      "Loss: 2.428998, Train accuracy: 0.400000, val accuracy: 0.000000\n",
      "Loss: 2.098213, Train accuracy: 0.400000, val accuracy: 0.000000\n",
      "Loss: 1.785281, Train accuracy: 0.466667, val accuracy: 0.000000\n",
      "Loss: 2.699545, Train accuracy: 0.333333, val accuracy: 0.000000\n",
      "Loss: 2.240543, Train accuracy: 0.266667, val accuracy: 0.066667\n",
      "Loss: 2.474952, Train accuracy: 0.400000, val accuracy: 0.000000\n",
      "Loss: 0.100527, Train accuracy: 0.533333, val accuracy: 0.000000\n",
      "Loss: 0.076403, Train accuracy: 0.666667, val accuracy: 0.000000\n",
      "Loss: 0.026423, Train accuracy: 0.866667, val accuracy: 0.066667\n",
      "Loss: 0.342771, Train accuracy: 0.866667, val accuracy: 0.000000\n",
      "Loss: 0.153913, Train accuracy: 0.933333, val accuracy: 0.133333\n",
      "Loss: 0.081464, Train accuracy: 0.866667, val accuracy: 0.066667\n",
      "Loss: 0.011297, Train accuracy: 1.000000, val accuracy: 0.000000\n",
      "Loss: 0.004485, Train accuracy: 1.000000, val accuracy: 0.066667\n",
      "Loss: 0.290639, Train accuracy: 1.000000, val accuracy: 0.000000\n",
      "Loss: 0.010830, Train accuracy: 1.000000, val accuracy: 0.000000\n",
      "Loss: 0.023690, Train accuracy: 1.000000, val accuracy: 0.000000\n",
      "Loss: 0.060947, Train accuracy: 1.000000, val accuracy: 0.000000\n"
     ]
    },
    {
     "data": {
      "text/plain": "[<matplotlib.lines.Line2D at 0x1edadc355d0>]"
     },
     "execution_count": 82,
     "metadata": {},
     "output_type": "execute_result"
    },
    {
     "data": {
      "text/plain": "<Figure size 432x288 with 2 Axes>",
      "image/png": "[encoded data removed]"
     },
     "metadata": {
      "needs_background": "light"
     },
     "output_type": "display_data"
    }
   ],
   "source": [
    "# Now, tweak some hyperparameters and make it train to 1.0 accuracy in 20 epochs or fewer\n",
    "\n",
    "model = TwoLayerNet(n_input=train_X.shape[1], n_output=10, hidden_layer_size=200, reg=1e-4)\n",
    "dataset = Dataset(train_X[:data_size], train_y[:data_size], val_X[:data_size], val_y[:data_size])\n",
    "# TODO: Change any hyperparameters or optimizators to reach training accuracy in 20 epochs\n",
    "trainer = Trainer(model, dataset, SGD(), learning_rate=1e-1 + 0.05, num_epochs=20, batch_size=2,\n",
    "                  learning_rate_decay=0.999)\n",
    "\n",
    "loss_history, train_history, val_history = trainer.fit()\n",
    "plt.figure()\n",
    "plt.subplot(2, 1, 1)\n",
    "plt.plot(train_history)\n",
    "plt.plot(val_history)\n",
    "plt.subplot(2, 1, 2)\n",
    "plt.plot(loss_history)"
   ]
  },
  {
   "cell_type": "markdown",
   "metadata": {},
   "source": [
    "# Итак, основное мероприятие!\n",
    "\n",
    "Натренируйте лучшую нейросеть! Можно добавлять и изменять параметры, менять количество нейронов в слоях сети и как угодно экспериментировать. \n",
    "\n",
    "Добейтесь точности лучше **60%** на validation set."
   ]
  },
  {
   "cell_type": "code",
   "execution_count": 94,
   "metadata": {
    "scrolled": true
   },
   "outputs": [
    {
     "name": "stdout",
     "output_type": "stream",
     "text": [
      "Loss: 2.222583, Train accuracy: 0.196667, val accuracy: 0.206000\n",
      "Loss: 2.126153, Train accuracy: 0.196667, val accuracy: 0.206000\n",
      "Loss: 2.145468, Train accuracy: 0.200222, val accuracy: 0.211000\n",
      "Loss: 1.934604, Train accuracy: 0.263556, val accuracy: 0.256000\n",
      "Loss: 2.073162, Train accuracy: 0.318778, val accuracy: 0.321000\n",
      "Loss: 1.766669, Train accuracy: 0.406000, val accuracy: 0.386000\n",
      "Loss: 1.441496, Train accuracy: 0.472111, val accuracy: 0.462000\n",
      "Loss: 1.521317, Train accuracy: 0.518444, val accuracy: 0.502000\n",
      "Loss: 1.439511, Train accuracy: 0.576778, val accuracy: 0.571000\n",
      "Loss: 1.244968, Train accuracy: 0.619556, val accuracy: 0.599000\n",
      "Loss: 1.466421, Train accuracy: 0.637778, val accuracy: 0.630000\n",
      "Loss: 1.455861, Train accuracy: 0.674556, val accuracy: 0.645000\n",
      "Loss: 1.461630, Train accuracy: 0.670000, val accuracy: 0.658000\n",
      "Loss: 1.259999, Train accuracy: 0.688333, val accuracy: 0.673000\n",
      "Loss: 1.272862, Train accuracy: 0.716889, val accuracy: 0.692000\n",
      "Loss: 1.143172, Train accuracy: 0.725667, val accuracy: 0.704000\n",
      "Loss: 1.190505, Train accuracy: 0.727444, val accuracy: 0.692000\n",
      "Loss: 0.918265, Train accuracy: 0.742111, val accuracy: 0.715000\n",
      "Loss: 1.029830, Train accuracy: 0.747000, val accuracy: 0.705000\n",
      "Loss: 0.953458, Train accuracy: 0.758222, val accuracy: 0.709000\n",
      "Loss: 0.874331, Train accuracy: 0.759778, val accuracy: 0.713000\n",
      "Loss: 1.006968, Train accuracy: 0.771444, val accuracy: 0.714000\n",
      "Loss: 0.866501, Train accuracy: 0.772000, val accuracy: 0.725000\n",
      "Loss: 0.852884, Train accuracy: 0.793889, val accuracy: 0.739000\n",
      "Loss: 0.922536, Train accuracy: 0.785778, val accuracy: 0.724000\n",
      "Loss: 1.205562, Train accuracy: 0.789667, val accuracy: 0.738000\n",
      "Loss: 0.996999, Train accuracy: 0.790333, val accuracy: 0.727000\n",
      "Loss: 0.838716, Train accuracy: 0.787222, val accuracy: 0.731000\n",
      "Loss: 0.745148, Train accuracy: 0.813889, val accuracy: 0.742000\n",
      "Loss: 1.130115, Train accuracy: 0.822333, val accuracy: 0.738000\n",
      "Loss: 0.783046, Train accuracy: 0.831222, val accuracy: 0.749000\n",
      "Loss: 0.740548, Train accuracy: 0.833333, val accuracy: 0.745000\n",
      "Loss: 0.825823, Train accuracy: 0.833778, val accuracy: 0.745000\n",
      "Loss: 0.751635, Train accuracy: 0.831889, val accuracy: 0.737000\n",
      "Loss: 0.895034, Train accuracy: 0.838222, val accuracy: 0.748000\n",
      "Loss: 0.853323, Train accuracy: 0.841889, val accuracy: 0.737000\n",
      "Loss: 0.867089, Train accuracy: 0.839556, val accuracy: 0.746000\n",
      "Loss: 0.836823, Train accuracy: 0.850556, val accuracy: 0.752000\n",
      "Loss: 0.925986, Train accuracy: 0.849667, val accuracy: 0.748000\n",
      "Loss: 0.846966, Train accuracy: 0.846889, val accuracy: 0.747000\n",
      "Loss: 0.746732, Train accuracy: 0.842222, val accuracy: 0.744000\n",
      "Loss: 0.832040, Train accuracy: 0.862000, val accuracy: 0.748000\n",
      "Loss: 0.920009, Train accuracy: 0.862444, val accuracy: 0.756000\n",
      "Loss: 1.016588, Train accuracy: 0.859111, val accuracy: 0.751000\n",
      "Loss: 1.027642, Train accuracy: 0.865333, val accuracy: 0.755000\n",
      "Loss: 1.016546, Train accuracy: 0.857111, val accuracy: 0.742000\n",
      "Loss: 0.954332, Train accuracy: 0.873667, val accuracy: 0.761000\n",
      "Loss: 0.843704, Train accuracy: 0.865333, val accuracy: 0.761000\n",
      "Loss: 1.027368, Train accuracy: 0.877889, val accuracy: 0.776000\n",
      "Loss: 0.574904, Train accuracy: 0.882333, val accuracy: 0.764000\n",
      "Loss: 0.799664, Train accuracy: 0.872778, val accuracy: 0.767000\n",
      "Loss: 0.745512, Train accuracy: 0.888222, val accuracy: 0.776000\n",
      "Loss: 0.663669, Train accuracy: 0.877111, val accuracy: 0.756000\n",
      "Loss: 0.735236, Train accuracy: 0.886111, val accuracy: 0.766000\n",
      "Loss: 0.816175, Train accuracy: 0.878667, val accuracy: 0.758000\n",
      "Loss: 0.937207, Train accuracy: 0.875556, val accuracy: 0.741000\n",
      "Loss: 0.617579, Train accuracy: 0.880444, val accuracy: 0.776000\n",
      "Loss: 0.643921, Train accuracy: 0.883000, val accuracy: 0.766000\n",
      "Loss: 0.857093, Train accuracy: 0.894889, val accuracy: 0.771000\n",
      "Loss: 0.703864, Train accuracy: 0.896222, val accuracy: 0.771000\n",
      "Loss: 0.709143, Train accuracy: 0.892889, val accuracy: 0.761000\n",
      "Loss: 0.825103, Train accuracy: 0.891556, val accuracy: 0.765000\n",
      "Loss: 0.663812, Train accuracy: 0.903111, val accuracy: 0.771000\n",
      "Loss: 0.776477, Train accuracy: 0.889333, val accuracy: 0.758000\n",
      "Loss: 0.627111, Train accuracy: 0.887222, val accuracy: 0.759000\n",
      "Loss: 0.754732, Train accuracy: 0.884000, val accuracy: 0.751000\n",
      "Loss: 0.646280, Train accuracy: 0.891333, val accuracy: 0.765000\n",
      "Loss: 0.946588, Train accuracy: 0.896889, val accuracy: 0.776000\n",
      "Loss: 0.693964, Train accuracy: 0.901889, val accuracy: 0.764000\n",
      "Loss: 0.679501, Train accuracy: 0.905556, val accuracy: 0.773000\n",
      "Loss: 0.768118, Train accuracy: 0.907000, val accuracy: 0.775000\n",
      "Loss: 0.782828, Train accuracy: 0.885444, val accuracy: 0.755000\n",
      "Loss: 0.692049, Train accuracy: 0.900000, val accuracy: 0.769000\n",
      "Loss: 1.049878, Train accuracy: 0.905667, val accuracy: 0.768000\n",
      "Loss: 0.923726, Train accuracy: 0.898222, val accuracy: 0.767000\n",
      "Loss: 0.824377, Train accuracy: 0.904667, val accuracy: 0.768000\n",
      "Loss: 0.893528, Train accuracy: 0.916889, val accuracy: 0.782000\n",
      "Loss: 1.064247, Train accuracy: 0.911667, val accuracy: 0.772000\n",
      "Loss: 0.726005, Train accuracy: 0.915778, val accuracy: 0.770000\n",
      "Loss: 0.759141, Train accuracy: 0.910333, val accuracy: 0.769000\n",
      "Loss: 0.720728, Train accuracy: 0.913667, val accuracy: 0.768000\n",
      "Loss: 0.799941, Train accuracy: 0.914889, val accuracy: 0.770000\n",
      "Loss: 0.774750, Train accuracy: 0.914444, val accuracy: 0.774000\n",
      "Loss: 0.721860, Train accuracy: 0.923778, val accuracy: 0.780000\n",
      "Loss: 0.677672, Train accuracy: 0.918333, val accuracy: 0.780000\n",
      "Loss: 0.839631, Train accuracy: 0.916333, val accuracy: 0.777000\n",
      "Loss: 0.740916, Train accuracy: 0.916111, val accuracy: 0.772000\n",
      "Loss: 0.611269, Train accuracy: 0.905444, val accuracy: 0.771000\n",
      "Loss: 0.754433, Train accuracy: 0.916778, val accuracy: 0.771000\n",
      "Loss: 0.771466, Train accuracy: 0.910667, val accuracy: 0.763000\n",
      "Loss: 0.677418, Train accuracy: 0.917222, val accuracy: 0.780000\n",
      "Loss: 0.779943, Train accuracy: 0.924222, val accuracy: 0.785000\n",
      "Loss: 0.763069, Train accuracy: 0.920444, val accuracy: 0.782000\n",
      "Loss: 0.714598, Train accuracy: 0.918333, val accuracy: 0.777000\n",
      "Loss: 0.921776, Train accuracy: 0.918000, val accuracy: 0.773000\n",
      "Loss: 0.879202, Train accuracy: 0.919667, val accuracy: 0.785000\n",
      "Loss: 0.683007, Train accuracy: 0.914556, val accuracy: 0.771000\n",
      "Loss: 0.892927, Train accuracy: 0.921667, val accuracy: 0.780000\n",
      "Loss: 0.838675, Train accuracy: 0.922111, val accuracy: 0.776000\n",
      "Loss: 0.747409, Train accuracy: 0.918000, val accuracy: 0.765000\n",
      "Loss: 0.717129, Train accuracy: 0.923444, val accuracy: 0.782000\n",
      "Loss: 0.671342, Train accuracy: 0.909000, val accuracy: 0.777000\n",
      "Loss: 0.797580, Train accuracy: 0.918333, val accuracy: 0.770000\n",
      "Loss: 0.760300, Train accuracy: 0.929111, val accuracy: 0.780000\n",
      "Loss: 0.646632, Train accuracy: 0.920111, val accuracy: 0.776000\n",
      "Loss: 0.644095, Train accuracy: 0.920000, val accuracy: 0.782000\n",
      "Loss: 0.789576, Train accuracy: 0.920667, val accuracy: 0.778000\n",
      "Loss: 0.752418, Train accuracy: 0.936444, val accuracy: 0.787000\n",
      "Loss: 0.796809, Train accuracy: 0.927222, val accuracy: 0.776000\n",
      "Loss: 0.698492, Train accuracy: 0.920556, val accuracy: 0.776000\n",
      "Loss: 0.778501, Train accuracy: 0.919889, val accuracy: 0.772000\n",
      "Loss: 0.706111, Train accuracy: 0.934000, val accuracy: 0.789000\n",
      "Loss: 0.676807, Train accuracy: 0.911000, val accuracy: 0.770000\n",
      "Loss: 0.767154, Train accuracy: 0.924556, val accuracy: 0.779000\n",
      "Loss: 0.748289, Train accuracy: 0.926667, val accuracy: 0.774000\n",
      "Loss: 0.960327, Train accuracy: 0.929444, val accuracy: 0.775000\n",
      "Loss: 0.671132, Train accuracy: 0.927333, val accuracy: 0.773000\n",
      "Loss: 0.801500, Train accuracy: 0.933444, val accuracy: 0.785000\n",
      "Loss: 0.780040, Train accuracy: 0.924333, val accuracy: 0.776000\n",
      "Loss: 0.761226, Train accuracy: 0.925111, val accuracy: 0.763000\n",
      "Loss: 0.590812, Train accuracy: 0.936778, val accuracy: 0.780000\n",
      "Loss: 0.600687, Train accuracy: 0.918667, val accuracy: 0.769000\n",
      "Loss: 0.963291, Train accuracy: 0.928222, val accuracy: 0.777000\n",
      "Loss: 0.716423, Train accuracy: 0.938778, val accuracy: 0.786000\n",
      "Loss: 0.720866, Train accuracy: 0.936444, val accuracy: 0.777000\n",
      "Loss: 0.668219, Train accuracy: 0.932667, val accuracy: 0.780000\n",
      "Loss: 0.636423, Train accuracy: 0.934778, val accuracy: 0.780000\n",
      "Loss: 0.650615, Train accuracy: 0.936889, val accuracy: 0.779000\n",
      "Loss: 0.653701, Train accuracy: 0.934889, val accuracy: 0.774000\n",
      "Loss: 0.754038, Train accuracy: 0.939889, val accuracy: 0.783000\n",
      "Loss: 0.676528, Train accuracy: 0.932333, val accuracy: 0.778000\n",
      "Loss: 0.804632, Train accuracy: 0.925778, val accuracy: 0.775000\n",
      "Loss: 0.841718, Train accuracy: 0.932556, val accuracy: 0.772000\n",
      "Loss: 0.805811, Train accuracy: 0.914444, val accuracy: 0.769000\n",
      "Loss: 0.578371, Train accuracy: 0.935444, val accuracy: 0.784000\n",
      "Loss: 0.729962, Train accuracy: 0.937222, val accuracy: 0.787000\n",
      "Loss: 0.742280, Train accuracy: 0.940444, val accuracy: 0.782000\n",
      "Loss: 0.737902, Train accuracy: 0.938333, val accuracy: 0.778000\n",
      "Loss: 0.741034, Train accuracy: 0.927111, val accuracy: 0.764000\n",
      "Loss: 0.790602, Train accuracy: 0.941667, val accuracy: 0.790000\n",
      "Loss: 0.638360, Train accuracy: 0.939111, val accuracy: 0.777000\n",
      "Loss: 0.646417, Train accuracy: 0.933222, val accuracy: 0.773000\n",
      "Loss: 0.764514, Train accuracy: 0.926889, val accuracy: 0.766000\n",
      "Loss: 0.740411, Train accuracy: 0.934889, val accuracy: 0.786000\n",
      "Loss: 0.722408, Train accuracy: 0.934000, val accuracy: 0.788000\n",
      "Loss: 0.699170, Train accuracy: 0.938778, val accuracy: 0.784000\n",
      "Loss: 0.633011, Train accuracy: 0.940667, val accuracy: 0.784000\n",
      "Loss: 0.591999, Train accuracy: 0.938778, val accuracy: 0.783000\n",
      "Loss: 0.767166, Train accuracy: 0.943000, val accuracy: 0.801000\n",
      "Loss: 0.639751, Train accuracy: 0.941111, val accuracy: 0.781000\n",
      "Loss: 0.738545, Train accuracy: 0.940556, val accuracy: 0.782000\n",
      "Loss: 0.554797, Train accuracy: 0.935111, val accuracy: 0.791000\n",
      "Loss: 0.895821, Train accuracy: 0.939667, val accuracy: 0.773000\n",
      "Loss: 0.578682, Train accuracy: 0.941444, val accuracy: 0.791000\n",
      "Loss: 0.764854, Train accuracy: 0.942778, val accuracy: 0.779000\n",
      "Loss: 0.804906, Train accuracy: 0.938444, val accuracy: 0.783000\n",
      "Loss: 0.649047, Train accuracy: 0.944222, val accuracy: 0.786000\n",
      "Loss: 0.620708, Train accuracy: 0.941444, val accuracy: 0.782000\n",
      "Loss: 0.722721, Train accuracy: 0.943333, val accuracy: 0.789000\n",
      "Loss: 0.628631, Train accuracy: 0.936333, val accuracy: 0.774000\n",
      "Loss: 0.816936, Train accuracy: 0.939889, val accuracy: 0.779000\n",
      "Loss: 0.706576, Train accuracy: 0.945111, val accuracy: 0.783000\n",
      "Loss: 0.586549, Train accuracy: 0.936889, val accuracy: 0.777000\n",
      "Loss: 0.856783, Train accuracy: 0.937667, val accuracy: 0.779000\n",
      "Loss: 0.732019, Train accuracy: 0.933778, val accuracy: 0.781000\n",
      "Loss: 0.741687, Train accuracy: 0.931222, val accuracy: 0.774000\n",
      "Loss: 0.849457, Train accuracy: 0.931444, val accuracy: 0.785000\n",
      "Loss: 0.610668, Train accuracy: 0.941444, val accuracy: 0.792000\n",
      "Loss: 0.666123, Train accuracy: 0.941778, val accuracy: 0.787000\n",
      "Loss: 0.735809, Train accuracy: 0.943556, val accuracy: 0.796000\n",
      "Loss: 0.604512, Train accuracy: 0.947000, val accuracy: 0.789000\n",
      "Loss: 0.798790, Train accuracy: 0.936556, val accuracy: 0.779000\n",
      "Loss: 0.810713, Train accuracy: 0.940111, val accuracy: 0.791000\n",
      "Loss: 0.915997, Train accuracy: 0.942778, val accuracy: 0.783000\n",
      "Loss: 0.765163, Train accuracy: 0.933667, val accuracy: 0.782000\n",
      "Loss: 0.719225, Train accuracy: 0.930222, val accuracy: 0.786000\n",
      "Loss: 0.760518, Train accuracy: 0.930444, val accuracy: 0.778000\n",
      "Loss: 0.785610, Train accuracy: 0.946333, val accuracy: 0.792000\n",
      "Loss: 0.731990, Train accuracy: 0.942222, val accuracy: 0.794000\n",
      "Loss: 0.671170, Train accuracy: 0.945889, val accuracy: 0.787000\n",
      "Loss: 0.714685, Train accuracy: 0.932333, val accuracy: 0.777000\n",
      "Loss: 0.670363, Train accuracy: 0.938556, val accuracy: 0.779000\n",
      "Loss: 0.766727, Train accuracy: 0.941667, val accuracy: 0.789000\n",
      "Loss: 0.750595, Train accuracy: 0.947556, val accuracy: 0.790000\n",
      "Loss: 0.875814, Train accuracy: 0.934444, val accuracy: 0.789000\n",
      "Loss: 0.707852, Train accuracy: 0.940778, val accuracy: 0.787000\n",
      "Loss: 0.661439, Train accuracy: 0.938667, val accuracy: 0.792000\n",
      "Loss: 0.715801, Train accuracy: 0.940444, val accuracy: 0.783000\n",
      "Loss: 0.596491, Train accuracy: 0.942889, val accuracy: 0.782000\n",
      "Loss: 0.621245, Train accuracy: 0.945111, val accuracy: 0.792000\n",
      "Loss: 0.653698, Train accuracy: 0.939667, val accuracy: 0.785000\n",
      "Loss: 0.741013, Train accuracy: 0.943222, val accuracy: 0.788000\n",
      "Loss: 0.646417, Train accuracy: 0.937556, val accuracy: 0.776000\n",
      "Loss: 0.767539, Train accuracy: 0.938778, val accuracy: 0.783000\n",
      "Loss: 0.746417, Train accuracy: 0.932667, val accuracy: 0.778000\n",
      "Loss: 0.660032, Train accuracy: 0.936333, val accuracy: 0.772000\n",
      "Loss: 0.660034, Train accuracy: 0.949889, val accuracy: 0.787000\n",
      "Loss: 0.688739, Train accuracy: 0.934778, val accuracy: 0.776000\n",
      "Loss: 0.752386, Train accuracy: 0.936889, val accuracy: 0.784000\n",
      "Loss: 0.643410, Train accuracy: 0.942778, val accuracy: 0.781000\n",
      "best validation accuracy achieved: 0.801000\n"
     ]
    }
   ],
   "source": [
    "# Let's train the best one-hidden-layer network we can\n",
    "\n",
    "learning_rates = 1e-2\n",
    "reg_strength = 1e-3\n",
    "learning_rate_decay = 0.999\n",
    "hidden_layer_size = 128\n",
    "num_epochs = 200\n",
    "batch_size = 64\n",
    "\n",
    "\n",
    "# TODO find the best hyperparameters to train the network\n",
    "# Don't hesitate to add new values to the arrays above, perform experiments, use any tricks you want\n",
    "# You should expect to get to at least 40% of validation accuracy\n",
    "# Save loss/train/history of the best classifier to the variables above\n",
    "dataset = Dataset(train_X, train_y, val_X, val_y)\n",
    "model = TwoLayerNet(n_input=train_X.shape[1], n_output=10,\n",
    "                    hidden_layer_size=hidden_layer_size,\n",
    "                    reg=reg_strength)\n",
    "\n",
    "trainer = Trainer(model, dataset, MomentumSGD(),\n",
    "                  num_epochs=num_epochs,\n",
    "                  batch_size=batch_size,\n",
    "                  learning_rate=learning_rates,\n",
    "                  learning_rate_decay=learning_rate_decay)\n",
    "\n",
    "loss_history, train_history, val_history = trainer.fit()\n",
    "\n",
    "print('best validation accuracy achieved: %f' % max(val_history))"
   ]
  },
  {
   "cell_type": "code",
   "execution_count": 99,
   "metadata": {},
   "outputs": [
    {
     "data": {
      "text/plain": "[<matplotlib.lines.Line2D at 0x1edafa826e0>]"
     },
     "execution_count": 99,
     "metadata": {},
     "output_type": "execute_result"
    },
    {
     "data": {
      "text/plain": "<Figure size 1080x504 with 2 Axes>",
      "image/png": "[encoded data removed]"
     },
     "metadata": {
      "needs_background": "light"
     },
     "output_type": "display_data"
    }
   ],
   "source": [
    "plt.figure(figsize=(15, 7))\n",
    "plt.subplot(211)\n",
    "plt.title(\"Loss\")\n",
    "plt.plot(loss_history)\n",
    "plt.subplot(212)\n",
    "plt.title(\"Train/validation accuracy\")\n",
    "plt.plot(train_history)\n",
    "plt.plot(val_history)"
   ]
  },
  {
   "cell_type": "markdown",
   "metadata": {
    "pycharm": {
     "name": "#%% md\n"
    }
   },
   "source": [
    "# Как обычно, посмотрим, как наша лучшая модель работает на тестовых данных\n"
   ]
  },
  {
   "cell_type": "code",
   "execution_count": 95,
   "metadata": {
    "pycharm": {
     "name": "#%%\n"
    }
   },
   "outputs": [
    {
     "name": "stdout",
     "output_type": "stream",
     "text": [
      "Neural net test set accuracy: 0.779000\n"
     ]
    }
   ],
   "source": [
    "test_pred = model.predict(test_X)\n",
    "test_accuracy = multiclass_accuracy(test_pred, test_y)\n",
    "print('Neural net test set accuracy: %f' % (test_accuracy,))"
   ]
  }
 ],
 "metadata": {
  "kernelspec": {
   "display_name": "Python 3 (ipykernel)",
   "language": "python",
   "name": "python3"
  },
  "language_info": {
   "codemirror_mode": {
    "name": "ipython",
    "version": 3
   },
   "file_extension": ".py",
   "mimetype": "text/x-python",
   "name": "python",
   "nbconvert_exporter": "python",
   "pygments_lexer": "ipython3",
   "version": "3.10.0"
  }
 },
 "nbformat": 4,
 "nbformat_minor": 2
}